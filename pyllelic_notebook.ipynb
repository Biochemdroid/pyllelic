{
 "cells": [
  {
   "cell_type": "markdown",
   "metadata": {},
   "source": [
    "# Example Pyllelic Use-Case Notebook"
   ]
  },
  {
   "cell_type": "markdown",
   "metadata": {},
   "source": [
    "## Background"
   ]
  },
  {
   "cell_type": "markdown",
   "metadata": {},
   "source": [
    "This notebook illustrates the import and use of `pyllelic` in a jupyter environment.\n",
    "\n",
    "See https://github.com/Paradoxdruid/pyllelic for further details."
   ]
  },
  {
   "cell_type": "markdown",
   "metadata": {},
   "source": [
    "## Set-up"
   ]
  },
  {
   "cell_type": "code",
   "execution_count": null,
   "metadata": {
    "ExecuteTime": {
     "end_time": "2021-01-05T19:23:43.163567Z",
     "start_time": "2021-01-05T19:23:41.421629Z"
    }
   },
   "outputs": [],
   "source": [
    "import pyllelic"
   ]
  },
  {
   "cell_type": "code",
   "execution_count": null,
   "metadata": {
    "ExecuteTime": {
     "end_time": "2021-01-05T19:23:44.336239Z",
     "start_time": "2021-01-05T19:23:44.326064Z"
    }
   },
   "outputs": [],
   "source": [
    "# set up your disk location:\n",
    "# base_path should be the directory we'll do our work in\n",
    "# make a sub-directory under base_path with a folder named \"test\"\n",
    "# and put the .bam and .bai files in \"test\"\n",
    "\n",
    "pyllelic.set_up_env_variables(\n",
    "    base_path=\"/Users/abonham/documents/test_allelic/\",\n",
    "    prom_file=\"TERT-promoter-genomic-sequence.txt\",\n",
    "    prom_start=\"1293000\",\n",
    "    prom_end=\"1296000\",\n",
    "    chrom=\"5\",\n",
    ")"
   ]
  },
  {
   "cell_type": "markdown",
   "metadata": {},
   "source": [
    "## Main Parsing Functions"
   ]
  },
  {
   "cell_type": "code",
   "execution_count": null,
   "metadata": {
    "ExecuteTime": {
     "end_time": "2021-01-05T19:25:53.386383Z",
     "start_time": "2021-01-05T19:25:53.364610Z"
    }
   },
   "outputs": [],
   "source": [
    "files_set = pyllelic.make_list_of_bam_files()  # finds bam files"
   ]
  },
  {
   "cell_type": "code",
   "execution_count": null,
   "metadata": {
    "ExecuteTime": {
     "end_time": "2021-01-05T19:38:23.960151Z",
     "start_time": "2021-01-05T19:38:23.958050Z"
    }
   },
   "outputs": [],
   "source": [
    "# Uncomment for debugging:\n",
    "# files_set"
   ]
  },
  {
   "cell_type": "code",
   "execution_count": null,
   "metadata": {
    "ExecuteTime": {
     "end_time": "2021-01-05T19:25:55.125873Z",
     "start_time": "2021-01-05T19:25:55.038694Z"
    }
   },
   "outputs": [],
   "source": [
    "# index bam and creates bam_output folders/files\n",
    "positions = pyllelic.index_and_fetch(files_set)"
   ]
  },
  {
   "cell_type": "code",
   "execution_count": null,
   "metadata": {
    "ExecuteTime": {
     "end_time": "2021-01-05T19:15:20.790547Z",
     "start_time": "2021-01-05T19:15:20.736046Z"
    }
   },
   "outputs": [],
   "source": [
    "pyllelic.genome_parsing()"
   ]
  },
  {
   "cell_type": "code",
   "execution_count": null,
   "metadata": {
    "ExecuteTime": {
     "end_time": "2021-01-05T19:23:54.292674Z",
     "start_time": "2021-01-05T19:23:54.286869Z"
    }
   },
   "outputs": [],
   "source": [
    "cell_types = pyllelic.extract_cell_types(files_set)"
   ]
  },
  {
   "cell_type": "code",
   "execution_count": null,
   "metadata": {},
   "outputs": [],
   "source": [
    "# Uncomment for debugging\n",
    "# cell_types"
   ]
  },
  {
   "cell_type": "code",
   "execution_count": null,
   "metadata": {
    "ExecuteTime": {
     "end_time": "2021-01-05T19:18:19.917624Z",
     "start_time": "2021-01-05T19:15:31.473371Z"
    }
   },
   "outputs": [],
   "source": [
    "# Set filename to whatever you want\n",
    "df_list = pyllelic.run_quma_and_compile_list_of_df(cell_types, \"tester2.xlsx\")"
   ]
  },
  {
   "cell_type": "code",
   "execution_count": null,
   "metadata": {
    "ExecuteTime": {
     "end_time": "2021-01-05T19:24:59.397306Z",
     "start_time": "2021-01-05T19:24:59.391481Z"
    }
   },
   "outputs": [],
   "source": [
    "# Uncomment for debugging\n",
    "# df_list.keys()"
   ]
  },
  {
   "cell_type": "code",
   "execution_count": null,
   "metadata": {
    "ExecuteTime": {
     "end_time": "2021-01-05T19:26:03.000766Z",
     "start_time": "2021-01-05T19:26:02.929214Z"
    }
   },
   "outputs": [],
   "source": [
    "means = pyllelic.process_means(df_list, positions, files_set)"
   ]
  },
  {
   "cell_type": "code",
   "execution_count": null,
   "metadata": {
    "ExecuteTime": {
     "end_time": "2021-01-05T19:26:05.624902Z",
     "start_time": "2021-01-05T19:26:05.593860Z"
    }
   },
   "outputs": [],
   "source": [
    "# Uncomment for debugging\n",
    "# means"
   ]
  },
  {
   "cell_type": "code",
   "execution_count": null,
   "metadata": {
    "ExecuteTime": {
     "end_time": "2021-01-05T19:26:07.807550Z",
     "start_time": "2021-01-05T19:26:07.739272Z"
    }
   },
   "outputs": [],
   "source": [
    "modes = pyllelic.process_modes(df_list, positions, files_set)"
   ]
  },
  {
   "cell_type": "code",
   "execution_count": null,
   "metadata": {
    "ExecuteTime": {
     "end_time": "2021-01-05T19:26:08.187468Z",
     "start_time": "2021-01-05T19:26:08.165159Z"
    }
   },
   "outputs": [],
   "source": [
    "# Uncomment for debugging\n",
    "# modes"
   ]
  },
  {
   "cell_type": "code",
   "execution_count": null,
   "metadata": {
    "ExecuteTime": {
     "end_time": "2021-01-05T19:26:09.024101Z",
     "start_time": "2021-01-05T19:26:09.000458Z"
    }
   },
   "outputs": [],
   "source": [
    "diff = pyllelic.find_diffs(means, modes)"
   ]
  },
  {
   "cell_type": "code",
   "execution_count": null,
   "metadata": {
    "ExecuteTime": {
     "end_time": "2021-01-05T19:26:09.530464Z",
     "start_time": "2021-01-05T19:26:09.512897Z"
    }
   },
   "outputs": [],
   "source": [
    "# Uncomment for debugging\n",
    "# diff"
   ]
  },
  {
   "cell_type": "markdown",
   "metadata": {},
   "source": [
    "## Write Output to excel files"
   ]
  },
  {
   "cell_type": "code",
   "execution_count": null,
   "metadata": {
    "ExecuteTime": {
     "end_time": "2021-01-05T19:26:15.296734Z",
     "start_time": "2021-01-05T19:26:15.183489Z"
    }
   },
   "outputs": [],
   "source": [
    "# Set the filename to whatever you want\n",
    "pyllelic.write_means_modes_diffs(means, modes, diff, \"Test_Output\")"
   ]
  }
 ],
 "metadata": {
  "kernelspec": {
   "display_name": "Python 3",
   "language": "python",
   "name": "python3"
  },
  "language_info": {
   "codemirror_mode": {
    "name": "ipython",
    "version": 3
   },
   "file_extension": ".py",
   "mimetype": "text/x-python",
   "name": "python",
   "nbconvert_exporter": "python",
   "pygments_lexer": "ipython3",
   "version": "3.7.8"
  },
  "toc": {
   "base_numbering": 1,
   "nav_menu": {},
   "number_sections": true,
   "sideBar": true,
   "skip_h1_title": false,
   "title_cell": "Table of Contents",
   "title_sidebar": "Contents",
   "toc_cell": false,
   "toc_position": {},
   "toc_section_display": true,
   "toc_window_display": false
  }
 },
 "nbformat": 4,
 "nbformat_minor": 4
}
