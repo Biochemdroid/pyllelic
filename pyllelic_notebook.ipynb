{
 "cells": [
  {
   "cell_type": "markdown",
   "metadata": {},
   "source": [
    "# Example Pyllelic Use-Case Notebook"
   ]
  },
  {
   "cell_type": "markdown",
   "metadata": {},
   "source": [
    "## Background"
   ]
  },
  {
   "cell_type": "markdown",
   "metadata": {},
   "source": [
    "This notebook illustrates the import and use of `pyllelic` in a jupyter environment.\n",
    "\n",
    "See https://github.com/Paradoxdruid/pyllelic for further details."
   ]
  },
  {
   "cell_type": "markdown",
   "metadata": {},
   "source": [
    "## Pre-setup"
   ]
  },
  {
   "cell_type": "markdown",
   "metadata": {},
   "source": [
    "### Obtaining fastq data"
   ]
  },
  {
   "cell_type": "markdown",
   "metadata": {},
   "source": [
    "We can download rrbs (reduced representation bisulfite sequencing) data from the Encode project:\n",
    "http://hgdownload.cse.ucsc.edu/goldenPath/hg19/encodeDCC/wgEncodeHaibMethylRrbs/"
   ]
  },
  {
   "cell_type": "markdown",
   "metadata": {},
   "source": [
    "Those files are in unaligned fastq format.  We will need to align these to a reference human genome."
   ]
  },
  {
   "cell_type": "markdown",
   "metadata": {
    "heading_collapsed": true
   },
   "source": [
    "### Aligning reads (using command line tools)"
   ]
  },
  {
   "cell_type": "markdown",
   "metadata": {
    "hidden": true
   },
   "source": [
    "To align reads, we'll use bowtie2 and samtools."
   ]
  },
  {
   "cell_type": "markdown",
   "metadata": {
    "hidden": true
   },
   "source": [
    "First, we need to download a genomic index sequence: http://hgdownload.soe.ucsc.edu/goldenPath/hg19"
   ]
  },
  {
   "cell_type": "markdown",
   "metadata": {
    "hidden": true
   },
   "source": [
    "Typical command:\n",
    "```python\n",
    "pyllelic.process.bowtie2_fastq_to_bam(index={bowtie_index_filename_without_suffix},\n",
    "                                      fastq={fastq_file_name},\n",
    "                                      cores=6)\n",
    "```\n",
    "\n",
    "Notes:\n",
    "* cores is number of processor cores, adjust for your system\n",
    "* instead of `out.bam` use a filename that encodes cell-line and tissue.  Our convention is: `fh_CELLLINE_TISSUE.TERT.bam`"
   ]
  },
  {
   "cell_type": "markdown",
   "metadata": {
    "hidden": true
   },
   "source": [
    "Then, we need to sort the resultant bam file.\n",
    "\n",
    "Typical command:\n",
    "```python\n",
    "pyllelic.processing.samtools_sort({sorted.bam})\n",
    "```"
   ]
  },
  {
   "cell_type": "markdown",
   "metadata": {
    "hidden": true
   },
   "source": [
    "Finally, we need to build an index file (**pyllelic** can also do this, if missing).\n",
    "\n",
    "Typical command:\n",
    "```shell\n",
    "samtools index sorted.bam\n",
    "```"
   ]
  },
  {
   "cell_type": "markdown",
   "metadata": {
    "hidden": true
   },
   "source": [
    "Now, that sorted file (again, rename to capture cell-line and tissue info) is ready to be put in the `test` folder for analysis by pyllelic!"
   ]
  },
  {
   "cell_type": "markdown",
   "metadata": {},
   "source": [
    "### Aligning reads (using process.py)"
   ]
  },
  {
   "cell_type": "code",
   "execution_count": null,
   "metadata": {
    "ExecuteTime": {
     "end_time": "2021-02-11T22:30:07.008982Z",
     "start_time": "2021-02-11T22:30:07.005722Z"
    }
   },
   "outputs": [],
   "source": [
    "# Processing imports\n",
    "# from pathlib import Path"
   ]
  },
  {
   "cell_type": "code",
   "execution_count": null,
   "metadata": {
    "ExecuteTime": {
     "end_time": "2021-02-11T20:02:16.211993Z",
     "start_time": "2021-02-11T20:02:16.205552Z"
    }
   },
   "outputs": [],
   "source": [
    "# Set up file paths\n",
    "# index = Path(\n",
    "#     \"/home/andrew/allellic/hg19.p13.plusMT.no_alt_analysis_set//hg19.p13.plusMT.no_alt_analysis_set\"\n",
    "# )\n",
    "# fastq = Path(\"/home/andrew/allellic/wgEncodeHaibMethylRrbsU87HaibRawDataRep1.fastq.gz\")"
   ]
  },
  {
   "cell_type": "markdown",
   "metadata": {},
   "source": [
    "**WARNING:** The next command is processor, RAM, and time intensive, and only needs to be run once!"
   ]
  },
  {
   "cell_type": "code",
   "execution_count": null,
   "metadata": {
    "ExecuteTime": {
     "end_time": "2021-02-11T20:00:15.551793Z",
     "start_time": "2021-02-11T20:00:15.549988Z"
    }
   },
   "outputs": [],
   "source": [
    "# Convert fastq to bam\n",
    "# pyllelic.bowtie2_fastq_to_bam(index=index, fastq=fastq)"
   ]
  },
  {
   "cell_type": "markdown",
   "metadata": {},
   "source": [
    "Next, we need to sort and index the bam file using samtools functions."
   ]
  },
  {
   "cell_type": "code",
   "execution_count": null,
   "metadata": {},
   "outputs": [],
   "source": [
    "# Sort the bamfile\n",
    "# bamfile = Path(\"/home/andrew/allellic/wgEncodeHaibMethylRrbsU87HaibRawDataRep1.bam\")\n",
    "# pyllelic.samtools_sort(bamfile)"
   ]
  },
  {
   "cell_type": "code",
   "execution_count": null,
   "metadata": {},
   "outputs": [],
   "source": [
    "# Create an index of the sorted bamfile\n",
    "# sorted_bam = Path(\"\")\n",
    "# pyllelic.samtools_index(b)"
   ]
  },
  {
   "cell_type": "markdown",
   "metadata": {},
   "source": [
    "## Set-up"
   ]
  },
  {
   "cell_type": "code",
   "execution_count": null,
   "metadata": {
    "ExecuteTime": {
     "end_time": "2021-05-07T17:20:09.537434Z",
     "start_time": "2021-05-07T17:20:09.533377Z"
    }
   },
   "outputs": [],
   "source": [
    "import pyllelic"
   ]
  },
  {
   "cell_type": "code",
   "execution_count": null,
   "metadata": {
    "ExecuteTime": {
     "end_time": "2021-05-07T17:20:10.244090Z",
     "start_time": "2021-05-07T17:20:10.239606Z"
    }
   },
   "outputs": [],
   "source": [
    "# set up your disk location:\n",
    "# base_path should be the directory we'll do our work in\n",
    "# make a sub-directory under base_path with a folder named \"test\"\n",
    "# and put the .bam and .bai files in \"test\"\n",
    "\n",
    "# OSX setup\n",
    "pyllelic.set_up_env_variables(\n",
    "    base_path=\"/Users/abonham/documents/test_allelic/\",\n",
    "    prom_file=\"TERT-promoter-genomic-sequence.txt\",\n",
    "    prom_start=\"1293000\",\n",
    "    prom_end=\"1296000\",\n",
    "    chrom=\"5\",\n",
    "    offset=1298163,\n",
    ")\n",
    "\n",
    "# Windows set-up\n",
    "# pyllelic.set_up_env_variables(\n",
    "#     base_path=\"/home/andrew/allellic/\",\n",
    "#     prom_file=\"TERT-promoter-genomic-sequence.txt\",\n",
    "#     prom_start=\"1293000\",\n",
    "#     prom_end=\"1296000\",\n",
    "#     chrom=\"chr5\",\n",
    "#     offset=1298163,\n",
    "# )"
   ]
  },
  {
   "cell_type": "markdown",
   "metadata": {},
   "source": [
    "## Main Parsing Functions"
   ]
  },
  {
   "cell_type": "code",
   "execution_count": null,
   "metadata": {
    "ExecuteTime": {
     "end_time": "2021-05-07T17:20:18.765364Z",
     "start_time": "2021-05-07T17:20:18.755871Z"
    }
   },
   "outputs": [],
   "source": [
    "files_set = pyllelic.make_list_of_bam_files()  # finds bam files"
   ]
  },
  {
   "cell_type": "code",
   "execution_count": null,
   "metadata": {
    "ExecuteTime": {
     "end_time": "2021-05-07T17:20:19.536728Z",
     "start_time": "2021-05-07T17:20:19.532762Z"
    }
   },
   "outputs": [],
   "source": [
    "# Uncomment for debugging:\n",
    "files_set"
   ]
  },
  {
   "cell_type": "code",
   "execution_count": null,
   "metadata": {
    "ExecuteTime": {
     "end_time": "2021-05-07T17:20:36.958210Z",
     "start_time": "2021-05-07T17:20:36.075821Z"
    }
   },
   "outputs": [],
   "source": [
    "# index bam and creates bam_output folders/files\n",
    "positions = pyllelic.index_and_fetch(files_set)"
   ]
  },
  {
   "cell_type": "code",
   "execution_count": null,
   "metadata": {
    "ExecuteTime": {
     "end_time": "2021-05-07T17:20:41.836799Z",
     "start_time": "2021-05-07T17:20:41.830638Z"
    }
   },
   "outputs": [],
   "source": [
    "# Turn off pretty printing to see position list better\n",
    "%pprint"
   ]
  },
  {
   "cell_type": "code",
   "execution_count": null,
   "metadata": {
    "ExecuteTime": {
     "end_time": "2021-05-07T17:20:42.534894Z",
     "start_time": "2021-05-07T17:20:42.529858Z"
    }
   },
   "outputs": [],
   "source": [
    "# Uncomment for debugging:\n",
    "positions"
   ]
  },
  {
   "cell_type": "code",
   "execution_count": null,
   "metadata": {
    "ExecuteTime": {
     "end_time": "2021-05-07T17:20:43.310431Z",
     "start_time": "2021-05-07T17:20:43.306717Z"
    }
   },
   "outputs": [],
   "source": [
    "# Turn back on pretty printing\n",
    "%pprint"
   ]
  },
  {
   "cell_type": "code",
   "execution_count": null,
   "metadata": {
    "ExecuteTime": {
     "end_time": "2021-03-04T21:07:11.740762Z",
     "start_time": "2021-03-04T21:07:11.738327Z"
    }
   },
   "outputs": [],
   "source": [
    "# Only needs to be run once, generates static files\n",
    "# pyllelic.genome_parsing()\n",
    "\n",
    "# Can also take sub-list of directories to process\n",
    "# pyllelic.genome_parsing([pyllelic.config.bam_directory / \"fh_BONHAM_TISSUE.TERT.bam\"])"
   ]
  },
  {
   "cell_type": "code",
   "execution_count": null,
   "metadata": {
    "ExecuteTime": {
     "end_time": "2021-05-07T17:21:08.503149Z",
     "start_time": "2021-05-07T17:21:08.500086Z"
    }
   },
   "outputs": [],
   "source": [
    "cell_types = pyllelic.extract_cell_types(files_set)"
   ]
  },
  {
   "cell_type": "code",
   "execution_count": null,
   "metadata": {
    "ExecuteTime": {
     "end_time": "2021-05-07T17:21:08.985371Z",
     "start_time": "2021-05-07T17:21:08.980949Z"
    }
   },
   "outputs": [],
   "source": [
    "# Uncomment for debugging\n",
    "cell_types"
   ]
  },
  {
   "cell_type": "code",
   "execution_count": null,
   "metadata": {
    "ExecuteTime": {
     "end_time": "2021-05-07T17:30:50.719134Z",
     "start_time": "2021-05-07T17:30:50.601483Z"
    }
   },
   "outputs": [],
   "source": [
    "# Set filename to whatever you want\n",
    "df_list = pyllelic.run_quma_and_compile_list_of_df(\n",
    "    cell_types, \"test7.xlsx\",\n",
    "    run_quma=False,\n",
    ")  # to skip quma: , run_quma=False)"
   ]
  },
  {
   "cell_type": "code",
   "execution_count": null,
   "metadata": {
    "ExecuteTime": {
     "end_time": "2021-05-07T17:30:53.980807Z",
     "start_time": "2021-05-07T17:30:53.976656Z"
    }
   },
   "outputs": [],
   "source": [
    "# Uncomment for debugging\n",
    "df_list.keys()"
   ]
  },
  {
   "cell_type": "code",
   "execution_count": null,
   "metadata": {
    "ExecuteTime": {
     "end_time": "2021-05-07T17:30:59.834820Z",
     "start_time": "2021-05-07T17:30:59.720640Z"
    }
   },
   "outputs": [],
   "source": [
    "means = pyllelic.process_means(df_list, positions, files_set)"
   ]
  },
  {
   "cell_type": "code",
   "execution_count": null,
   "metadata": {
    "ExecuteTime": {
     "end_time": "2021-05-07T17:31:00.401257Z",
     "start_time": "2021-05-07T17:31:00.372489Z"
    }
   },
   "outputs": [],
   "source": [
    "# Uncomment for debugging\n",
    "means"
   ]
  },
  {
   "cell_type": "code",
   "execution_count": null,
   "metadata": {
    "ExecuteTime": {
     "end_time": "2021-05-07T17:31:48.484203Z",
     "start_time": "2021-05-07T17:31:48.367065Z"
    }
   },
   "outputs": [],
   "source": [
    "modes = pyllelic.process_modes(df_list, positions, files_set)"
   ]
  },
  {
   "cell_type": "code",
   "execution_count": null,
   "metadata": {
    "ExecuteTime": {
     "end_time": "2021-05-07T17:31:48.831097Z",
     "start_time": "2021-05-07T17:31:48.799387Z"
    }
   },
   "outputs": [],
   "source": [
    "# Uncomment for debugging\n",
    "modes"
   ]
  },
  {
   "cell_type": "code",
   "execution_count": null,
   "metadata": {
    "ExecuteTime": {
     "end_time": "2021-05-07T17:31:50.864073Z",
     "start_time": "2021-05-07T17:31:50.855601Z"
    }
   },
   "outputs": [],
   "source": [
    "diff = pyllelic.find_diffs(means, modes)"
   ]
  },
  {
   "cell_type": "code",
   "execution_count": null,
   "metadata": {
    "ExecuteTime": {
     "end_time": "2021-05-07T17:31:51.501176Z",
     "start_time": "2021-05-07T17:31:51.480084Z"
    }
   },
   "outputs": [],
   "source": [
    "# Uncomment for debugging\n",
    "diff"
   ]
  },
  {
   "cell_type": "markdown",
   "metadata": {},
   "source": [
    "## Write Output to excel files"
   ]
  },
  {
   "cell_type": "code",
   "execution_count": null,
   "metadata": {
    "ExecuteTime": {
     "end_time": "2021-05-07T17:32:06.525880Z",
     "start_time": "2021-05-07T17:32:06.369141Z"
    }
   },
   "outputs": [],
   "source": [
    "# Set the filename to whatever you want\n",
    "pyllelic.write_means_modes_diffs(means, modes, diff, \"Test9\")"
   ]
  },
  {
   "cell_type": "markdown",
   "metadata": {},
   "source": [
    "## Visualizing Data"
   ]
  },
  {
   "cell_type": "code",
   "execution_count": null,
   "metadata": {
    "ExecuteTime": {
     "end_time": "2021-05-07T17:32:09.409304Z",
     "start_time": "2021-05-07T17:32:09.386427Z"
    }
   },
   "outputs": [],
   "source": [
    "final_data = pyllelic.pd.read_excel(\n",
    "    pyllelic.config.base_directory.joinpath(\"Test9_diff.xlsx\"),\n",
    "    dtype=str,\n",
    "    index_col=0,\n",
    "    engine=\"openpyxl\",\n",
    ")"
   ]
  },
  {
   "cell_type": "code",
   "execution_count": null,
   "metadata": {
    "ExecuteTime": {
     "end_time": "2021-05-07T17:32:10.454614Z",
     "start_time": "2021-05-07T17:32:10.430827Z"
    }
   },
   "outputs": [],
   "source": [
    "final_data"
   ]
  },
  {
   "cell_type": "code",
   "execution_count": null,
   "metadata": {
    "ExecuteTime": {
     "end_time": "2021-05-07T17:32:15.035115Z",
     "start_time": "2021-05-07T17:32:12.515200Z"
    }
   },
   "outputs": [],
   "source": [
    "individual_data = pyllelic.return_individual_data(df_list, positions, files_set)"
   ]
  },
  {
   "cell_type": "code",
   "execution_count": null,
   "metadata": {
    "ExecuteTime": {
     "end_time": "2021-05-07T17:32:16.364632Z",
     "start_time": "2021-05-07T17:32:16.314438Z"
    }
   },
   "outputs": [],
   "source": [
    "# Uncomment for debugging\n",
    "individual_data"
   ]
  },
  {
   "cell_type": "code",
   "execution_count": null,
   "metadata": {
    "ExecuteTime": {
     "end_time": "2021-05-07T17:34:38.946730Z",
     "start_time": "2021-05-07T17:34:38.931330Z"
    }
   },
   "outputs": [],
   "source": [
    "individual_data.loc[\"NCIH196\"]"
   ]
  },
  {
   "cell_type": "code",
   "execution_count": null,
   "metadata": {
    "ExecuteTime": {
     "end_time": "2021-05-07T17:35:10.653020Z",
     "start_time": "2021-05-07T17:35:10.552611Z"
    }
   },
   "outputs": [],
   "source": [
    "pyllelic.histogram(individual_data, \"SW1710\", \"1293690\")"
   ]
  },
  {
   "cell_type": "code",
   "execution_count": null,
   "metadata": {
    "ExecuteTime": {
     "end_time": "2021-05-07T17:35:21.454472Z",
     "start_time": "2021-05-07T17:35:21.392617Z"
    }
   },
   "outputs": [],
   "source": [
    "pyllelic.histogram(individual_data, \"NCIH196\", \"1294004\")"
   ]
  },
  {
   "cell_type": "code",
   "execution_count": null,
   "metadata": {
    "ExecuteTime": {
     "end_time": "2021-05-07T17:35:24.638257Z",
     "start_time": "2021-05-07T17:35:24.584724Z"
    }
   },
   "outputs": [],
   "source": [
    "pyllelic.histogram(individual_data, \"NCIH196\", \"1293561\")"
   ]
  },
  {
   "cell_type": "code",
   "execution_count": null,
   "metadata": {
    "ExecuteTime": {
     "end_time": "2021-05-07T17:35:26.921758Z",
     "start_time": "2021-05-07T17:35:26.860572Z"
    }
   },
   "outputs": [],
   "source": [
    "pyllelic.histogram(individual_data, \"SW1710\", \"1294031\")"
   ]
  },
  {
   "cell_type": "code",
   "execution_count": null,
   "metadata": {
    "ExecuteTime": {
     "end_time": "2021-05-07T17:38:36.040380Z",
     "start_time": "2021-05-07T17:38:36.034346Z"
    }
   },
   "outputs": [],
   "source": [
    "final_data.loc[\"SW1710\"]"
   ]
  },
  {
   "cell_type": "markdown",
   "metadata": {},
   "source": [
    "## Statistical Tests for Normality"
   ]
  },
  {
   "cell_type": "code",
   "execution_count": null,
   "metadata": {
    "ExecuteTime": {
     "end_time": "2021-05-07T17:38:40.052870Z",
     "start_time": "2021-05-07T17:38:39.989013Z"
    }
   },
   "outputs": [],
   "source": [
    "pyllelic.summarize_allelic_data(individual_data, diff)"
   ]
  },
  {
   "cell_type": "code",
   "execution_count": null,
   "metadata": {},
   "outputs": [],
   "source": []
  }
 ],
 "metadata": {
  "jupytext": {
   "formats": "ipynb,md"
  },
  "kernelspec": {
   "display_name": "Python 3",
   "language": "python",
   "name": "python3"
  },
  "language_info": {
   "codemirror_mode": {
    "name": "ipython",
    "version": 3
   },
   "file_extension": ".py",
   "mimetype": "text/x-python",
   "name": "python",
   "nbconvert_exporter": "python",
   "pygments_lexer": "ipython3",
   "version": "3.7.8"
  },
  "toc": {
   "base_numbering": 1,
   "nav_menu": {},
   "number_sections": true,
   "sideBar": true,
   "skip_h1_title": false,
   "title_cell": "Table of Contents",
   "title_sidebar": "Contents",
   "toc_cell": false,
   "toc_position": {},
   "toc_section_display": true,
   "toc_window_display": false
  }
 },
 "nbformat": 4,
 "nbformat_minor": 4
}
