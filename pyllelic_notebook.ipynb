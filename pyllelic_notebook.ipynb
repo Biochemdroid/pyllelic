{
 "cells": [
  {
   "cell_type": "markdown",
   "metadata": {},
   "source": [
    "# Example Pyllelic Use-Case Notebook"
   ]
  },
  {
   "cell_type": "markdown",
   "metadata": {},
   "source": [
    "## Background"
   ]
  },
  {
   "cell_type": "markdown",
   "metadata": {},
   "source": [
    "This notebook illustrates the import and use of `pyllelic` in a jupyter environment.\n",
    "\n",
    "See https://github.com/Paradoxdruid/pyllelic for further details."
   ]
  },
  {
   "cell_type": "markdown",
   "metadata": {
    "heading_collapsed": true
   },
   "source": [
    "## Pre-setup"
   ]
  },
  {
   "cell_type": "markdown",
   "metadata": {
    "hidden": true
   },
   "source": [
    "### Obtaining fastq data"
   ]
  },
  {
   "cell_type": "markdown",
   "metadata": {
    "hidden": true
   },
   "source": [
    "We can download rrbs (reduced representation bisulfite sequencing) data from the Encode project:\n",
    "http://hgdownload.cse.ucsc.edu/goldenPath/hg19/encodeDCC/wgEncodeHaibMethylRrbs/"
   ]
  },
  {
   "cell_type": "markdown",
   "metadata": {
    "hidden": true
   },
   "source": [
    "Those files are in unaligned fastq format.  We will need to align these to a reference human genome."
   ]
  },
  {
   "cell_type": "markdown",
   "metadata": {
    "hidden": true
   },
   "source": [
    "### Aligning reads (using command line tools)"
   ]
  },
  {
   "cell_type": "markdown",
   "metadata": {
    "hidden": true
   },
   "source": [
    "To align reads, we'll use bowtie2 and samtools.  **TODO:** Rewrite the below to use `process.py` commands."
   ]
  },
  {
   "cell_type": "markdown",
   "metadata": {
    "hidden": true
   },
   "source": [
    "First, we need to download a genomic index sequence: http://hgdownload.soe.ucsc.edu/goldenPath/hg19"
   ]
  },
  {
   "cell_type": "markdown",
   "metadata": {
    "hidden": true
   },
   "source": [
    "Typical command:\n",
    "```shell\n",
    "bowtie2 -p 8 -x {bowtie_index_filename_without_suffix} -U {fastq_file_name} | samtools view -bS - > out.bam\n",
    "```\n",
    "\n",
    "Notes:\n",
    "* p is number of processor cores, adjust for your system\n",
    "* instead of `out.bam` use a filename that encodes cell-line and tissue.  Our convention is: `fh_CELLLINE_TISSUE.TERT.bam`"
   ]
  },
  {
   "cell_type": "markdown",
   "metadata": {
    "hidden": true
   },
   "source": [
    "Then, we need to sort the resultant bam file.\n",
    "\n",
    "Typical command:\n",
    "```shell\n",
    "samtools sort -o sorted.bam out.bam\n",
    "```"
   ]
  },
  {
   "cell_type": "markdown",
   "metadata": {
    "hidden": true
   },
   "source": [
    "Finally, we need to build an index file (**pyllelic** can also do this, if missing).\n",
    "\n",
    "Typical command:\n",
    "```shell\n",
    "samtools index sorted.bam\n",
    "```"
   ]
  },
  {
   "cell_type": "markdown",
   "metadata": {
    "hidden": true
   },
   "source": [
    "Now, that sorted file (again, rename to capture cell-line and tissue info) is ready to be put in the `test` folder for analysis by pyllelic!"
   ]
  },
  {
   "cell_type": "markdown",
   "metadata": {
    "hidden": true
   },
   "source": [
    "### Aligning reads (using process.py)"
   ]
  },
  {
   "cell_type": "code",
   "execution_count": null,
   "metadata": {
    "ExecuteTime": {
     "end_time": "2021-02-11T22:30:07.008982Z",
     "start_time": "2021-02-11T22:30:07.005722Z"
    },
    "hidden": true
   },
   "outputs": [],
   "source": [
    "# Processing imports\n",
    "from pathlib import Path"
   ]
  },
  {
   "cell_type": "code",
   "execution_count": null,
   "metadata": {
    "ExecuteTime": {
     "end_time": "2021-02-11T20:02:16.211993Z",
     "start_time": "2021-02-11T20:02:16.205552Z"
    },
    "hidden": true
   },
   "outputs": [],
   "source": [
    "# Set up file paths\n",
    "index = Path(\n",
    "    \"/home/andrew/allellic/hg19.p13.plusMT.no_alt_analysis_set//hg19.p13.plusMT.no_alt_analysis_set\"\n",
    ")\n",
    "fastq = Path(\"/home/andrew/allellic/wgEncodeHaibMethylRrbsU87HaibRawDataRep1.fastq.gz\")"
   ]
  },
  {
   "cell_type": "markdown",
   "metadata": {
    "hidden": true
   },
   "source": [
    "**WARNING:** The next command is processor, RAM, and time intensive, and only needs to be run once!"
   ]
  },
  {
   "cell_type": "code",
   "execution_count": null,
   "metadata": {
    "ExecuteTime": {
     "end_time": "2021-02-11T20:00:15.551793Z",
     "start_time": "2021-02-11T20:00:15.549988Z"
    },
    "hidden": true
   },
   "outputs": [],
   "source": [
    "# pyllelic.bowtie2_fastq_to_bam(index=index, fastq=fastq)"
   ]
  },
  {
   "cell_type": "markdown",
   "metadata": {
    "hidden": true
   },
   "source": [
    "Next, we need to sort and index the bam file using samtools functions."
   ]
  },
  {
   "cell_type": "code",
   "execution_count": null,
   "metadata": {
    "hidden": true
   },
   "outputs": [],
   "source": [
    "bamfile = Path(\"/home/andrew/allellic/wgEncodeHaibMethylRrbsU87HaibRawDataRep1.bam\")\n",
    "pyllelic.samtools_sort(bamfile)"
   ]
  },
  {
   "cell_type": "code",
   "execution_count": null,
   "metadata": {
    "hidden": true
   },
   "outputs": [],
   "source": [
    "sorted_bam = Path(\"\")\n",
    "pyllelic.samtools_index(b)"
   ]
  },
  {
   "cell_type": "code",
   "execution_count": null,
   "metadata": {
    "hidden": true
   },
   "outputs": [],
   "source": []
  },
  {
   "cell_type": "markdown",
   "metadata": {},
   "source": [
    "## Set-up"
   ]
  },
  {
   "cell_type": "code",
   "execution_count": 1,
   "metadata": {
    "ExecuteTime": {
     "end_time": "2021-03-04T21:07:07.966292Z",
     "start_time": "2021-03-04T21:07:06.846073Z"
    }
   },
   "outputs": [],
   "source": [
    "import pyllelic"
   ]
  },
  {
   "cell_type": "code",
   "execution_count": 2,
   "metadata": {
    "ExecuteTime": {
     "end_time": "2021-03-04T21:07:08.145089Z",
     "start_time": "2021-03-04T21:07:08.141484Z"
    }
   },
   "outputs": [],
   "source": [
    "# set up your disk location:\n",
    "# base_path should be the directory we'll do our work in\n",
    "# make a sub-directory under base_path with a folder named \"test\"\n",
    "# and put the .bam and .bai files in \"test\"\n",
    "\n",
    "pyllelic.set_up_env_variables(\n",
    "    base_path=\"/Users/abonham/documents/test_allelic/\",\n",
    "    prom_file=\"TERT-promoter-genomic-sequence.txt\",\n",
    "    prom_start=\"1293000\",\n",
    "    prom_end=\"1296000\",\n",
    "    chrom=\"5\",\n",
    "    offset=1298163,\n",
    ")\n",
    "\n",
    "# pyllelic.set_up_env_variables(\n",
    "#     base_path=\"/home/andrew/allellic/\",\n",
    "#     prom_file=\"TERT-promoter-genomic-sequence.txt\",\n",
    "#     prom_start=\"1293000\",\n",
    "#     prom_end=\"1296000\",\n",
    "#     chrom=\"chr5\",\n",
    "# )"
   ]
  },
  {
   "cell_type": "markdown",
   "metadata": {},
   "source": [
    "## Main Parsing Functions"
   ]
  },
  {
   "cell_type": "code",
   "execution_count": 3,
   "metadata": {
    "ExecuteTime": {
     "end_time": "2021-03-04T21:07:10.002490Z",
     "start_time": "2021-03-04T21:07:09.993949Z"
    }
   },
   "outputs": [],
   "source": [
    "files_set = pyllelic.make_list_of_bam_files()  # finds bam files"
   ]
  },
  {
   "cell_type": "code",
   "execution_count": 4,
   "metadata": {
    "ExecuteTime": {
     "end_time": "2021-03-04T21:07:10.364805Z",
     "start_time": "2021-03-04T21:07:10.352727Z"
    }
   },
   "outputs": [
    {
     "data": {
      "text/plain": [
       "['fh_SW1710_URINARY_TRACT.TERT.bam', 'fh_NCIH196_LUNG.TERT.bam']"
      ]
     },
     "execution_count": 4,
     "metadata": {},
     "output_type": "execute_result"
    }
   ],
   "source": [
    "# Uncomment for debugging:\n",
    "files_set"
   ]
  },
  {
   "cell_type": "code",
   "execution_count": 5,
   "metadata": {
    "ExecuteTime": {
     "end_time": "2021-03-04T21:07:11.475076Z",
     "start_time": "2021-03-04T21:07:10.805640Z"
    }
   },
   "outputs": [
    {
     "data": {
      "application/vnd.jupyter.widget-view+json": {
       "model_id": "011d18547605473baacdc4e062cf9c39",
       "version_major": 2,
       "version_minor": 0
      },
      "text/plain": [
       "  0%|          | 0/2 [00:00<?, ?it/s]"
      ]
     },
     "metadata": {},
     "output_type": "display_data"
    }
   ],
   "source": [
    "# index bam and creates bam_output folders/files\n",
    "positions = pyllelic.index_and_fetch(files_set)"
   ]
  },
  {
   "cell_type": "code",
   "execution_count": 6,
   "metadata": {
    "ExecuteTime": {
     "end_time": "2021-03-04T21:07:11.482863Z",
     "start_time": "2021-03-04T21:07:11.477577Z"
    }
   },
   "outputs": [
    {
     "data": {
      "text/plain": [
       "['1293104',\n",
       " '1293139',\n",
       " '1293561',\n",
       " '1293588',\n",
       " '1293690',\n",
       " '1293730',\n",
       " '1294004',\n",
       " '1294031',\n",
       " '1294196',\n",
       " '1294223',\n",
       " '1294235',\n",
       " '1294262',\n",
       " '1294316',\n",
       " '1294369',\n",
       " '1294419',\n",
       " '1294446',\n",
       " '1294812',\n",
       " '1294872',\n",
       " '1294945',\n",
       " '1294972',\n",
       " '1295089',\n",
       " '1295116',\n",
       " '1295246',\n",
       " '1295320',\n",
       " '1295365',\n",
       " '1295393',\n",
       " '1295430',\n",
       " '1295590',\n",
       " '1295680',\n",
       " '1295743',\n",
       " '1295770',\n",
       " '1295876',\n",
       " '1295903',\n",
       " '1295937',\n",
       " '1295979']"
      ]
     },
     "execution_count": 6,
     "metadata": {},
     "output_type": "execute_result"
    }
   ],
   "source": [
    "# Uncomment for debugging:\n",
    "positions"
   ]
  },
  {
   "cell_type": "code",
   "execution_count": 7,
   "metadata": {
    "ExecuteTime": {
     "end_time": "2021-03-04T21:07:11.740762Z",
     "start_time": "2021-03-04T21:07:11.738327Z"
    }
   },
   "outputs": [],
   "source": [
    "# Only needs to be run once, generates static files\n",
    "# pyllelic.genome_parsing()\n",
    "\n",
    "# Can also take sub-list of directories to process\n",
    "# pyllelic.genome_parsing([pyllelic.config.bam_directory / \"fh_BONHAM_TISSUE.TERT.bam\"])"
   ]
  },
  {
   "cell_type": "code",
   "execution_count": 8,
   "metadata": {
    "ExecuteTime": {
     "end_time": "2021-03-04T21:07:12.593416Z",
     "start_time": "2021-03-04T21:07:12.591124Z"
    }
   },
   "outputs": [],
   "source": [
    "cell_types = pyllelic.extract_cell_types(files_set)"
   ]
  },
  {
   "cell_type": "code",
   "execution_count": 9,
   "metadata": {
    "ExecuteTime": {
     "end_time": "2021-03-04T21:07:13.072175Z",
     "start_time": "2021-03-04T21:07:13.068766Z"
    }
   },
   "outputs": [
    {
     "data": {
      "text/plain": [
       "['SW1710', 'NCIH196']"
      ]
     },
     "execution_count": 9,
     "metadata": {},
     "output_type": "execute_result"
    }
   ],
   "source": [
    "# Uncomment for debugging\n",
    "cell_types"
   ]
  },
  {
   "cell_type": "code",
   "execution_count": 10,
   "metadata": {
    "ExecuteTime": {
     "end_time": "2021-03-04T21:07:13.926989Z",
     "start_time": "2021-03-04T21:07:13.603508Z"
    }
   },
   "outputs": [],
   "source": [
    "# Set filename to whatever you want\n",
    "df_list = pyllelic.run_quma_and_compile_list_of_df(\n",
    "    cell_types, \"test7.xlsx\",\n",
    "    run_quma=False,\n",
    ")  # to skip quma: , run_quma=False)"
   ]
  },
  {
   "cell_type": "code",
   "execution_count": 11,
   "metadata": {
    "ExecuteTime": {
     "end_time": "2021-03-04T21:07:14.600100Z",
     "start_time": "2021-03-04T21:07:14.596320Z"
    }
   },
   "outputs": [
    {
     "data": {
      "text/plain": [
       "dict_keys(['SW1710', 'NCIH196'])"
      ]
     },
     "execution_count": 11,
     "metadata": {},
     "output_type": "execute_result"
    }
   ],
   "source": [
    "# Uncomment for debugging\n",
    "df_list.keys()"
   ]
  },
  {
   "cell_type": "code",
   "execution_count": 12,
   "metadata": {
    "ExecuteTime": {
     "end_time": "2021-03-04T21:07:16.175398Z",
     "start_time": "2021-03-04T21:07:16.103776Z"
    }
   },
   "outputs": [],
   "source": [
    "means = pyllelic.process_means(df_list, positions, files_set)"
   ]
  },
  {
   "cell_type": "code",
   "execution_count": 13,
   "metadata": {
    "ExecuteTime": {
     "end_time": "2021-03-04T21:07:16.746844Z",
     "start_time": "2021-03-04T21:07:16.718319Z"
    }
   },
   "outputs": [
    {
     "data": {
      "text/html": [
       "<div>\n",
       "<style scoped>\n",
       "    .dataframe tbody tr th:only-of-type {\n",
       "        vertical-align: middle;\n",
       "    }\n",
       "\n",
       "    .dataframe tbody tr th {\n",
       "        vertical-align: top;\n",
       "    }\n",
       "\n",
       "    .dataframe thead th {\n",
       "        text-align: right;\n",
       "    }\n",
       "</style>\n",
       "<table border=\"1\" class=\"dataframe\">\n",
       "  <thead>\n",
       "    <tr style=\"text-align: right;\">\n",
       "      <th></th>\n",
       "      <th>1293104</th>\n",
       "      <th>1293139</th>\n",
       "      <th>1293561</th>\n",
       "      <th>1293588</th>\n",
       "      <th>1293690</th>\n",
       "      <th>1293730</th>\n",
       "      <th>1294004</th>\n",
       "      <th>1294031</th>\n",
       "      <th>1294196</th>\n",
       "      <th>1294223</th>\n",
       "      <th>...</th>\n",
       "      <th>1295393</th>\n",
       "      <th>1295430</th>\n",
       "      <th>1295590</th>\n",
       "      <th>1295680</th>\n",
       "      <th>1295743</th>\n",
       "      <th>1295770</th>\n",
       "      <th>1295876</th>\n",
       "      <th>1295903</th>\n",
       "      <th>1295937</th>\n",
       "      <th>1295979</th>\n",
       "    </tr>\n",
       "  </thead>\n",
       "  <tbody>\n",
       "    <tr>\n",
       "      <th>SW1710</th>\n",
       "      <td>NaN</td>\n",
       "      <td>NaN</td>\n",
       "      <td>NaN</td>\n",
       "      <td>NaN</td>\n",
       "      <td>0.8</td>\n",
       "      <td>NaN</td>\n",
       "      <td>NaN</td>\n",
       "      <td>1</td>\n",
       "      <td>1</td>\n",
       "      <td>NaN</td>\n",
       "      <td>...</td>\n",
       "      <td>NaN</td>\n",
       "      <td>NaN</td>\n",
       "      <td>0.961538</td>\n",
       "      <td>NaN</td>\n",
       "      <td>0.964286</td>\n",
       "      <td>NaN</td>\n",
       "      <td>1</td>\n",
       "      <td>NaN</td>\n",
       "      <td>NaN</td>\n",
       "      <td>NaN</td>\n",
       "    </tr>\n",
       "    <tr>\n",
       "      <th>NCIH196</th>\n",
       "      <td>NaN</td>\n",
       "      <td>NaN</td>\n",
       "      <td>0</td>\n",
       "      <td>NaN</td>\n",
       "      <td>0.279874</td>\n",
       "      <td>NaN</td>\n",
       "      <td>0.697674</td>\n",
       "      <td>1</td>\n",
       "      <td>0.283784</td>\n",
       "      <td>NaN</td>\n",
       "      <td>...</td>\n",
       "      <td>NaN</td>\n",
       "      <td>NaN</td>\n",
       "      <td>0.619469</td>\n",
       "      <td>1</td>\n",
       "      <td>0.475352</td>\n",
       "      <td>NaN</td>\n",
       "      <td>0.901099</td>\n",
       "      <td>1</td>\n",
       "      <td>NaN</td>\n",
       "      <td>NaN</td>\n",
       "    </tr>\n",
       "  </tbody>\n",
       "</table>\n",
       "<p>2 rows × 35 columns</p>\n",
       "</div>"
      ],
      "text/plain": [
       "        1293104 1293139 1293561 1293588   1293690 1293730   1294004 1294031  \\\n",
       "SW1710      NaN     NaN     NaN     NaN       0.8     NaN       NaN       1   \n",
       "NCIH196     NaN     NaN       0     NaN  0.279874     NaN  0.697674       1   \n",
       "\n",
       "          1294196 1294223  ... 1295393 1295430   1295590 1295680   1295743  \\\n",
       "SW1710          1     NaN  ...     NaN     NaN  0.961538     NaN  0.964286   \n",
       "NCIH196  0.283784     NaN  ...     NaN     NaN  0.619469       1  0.475352   \n",
       "\n",
       "        1295770   1295876 1295903 1295937 1295979  \n",
       "SW1710      NaN         1     NaN     NaN     NaN  \n",
       "NCIH196     NaN  0.901099       1     NaN     NaN  \n",
       "\n",
       "[2 rows x 35 columns]"
      ]
     },
     "execution_count": 13,
     "metadata": {},
     "output_type": "execute_result"
    }
   ],
   "source": [
    "# Uncomment for debugging\n",
    "means"
   ]
  },
  {
   "cell_type": "code",
   "execution_count": 14,
   "metadata": {
    "ExecuteTime": {
     "end_time": "2021-03-04T21:07:17.234552Z",
     "start_time": "2021-03-04T21:07:17.153932Z"
    }
   },
   "outputs": [],
   "source": [
    "modes = pyllelic.process_modes(df_list, positions, files_set)"
   ]
  },
  {
   "cell_type": "code",
   "execution_count": 15,
   "metadata": {
    "ExecuteTime": {
     "end_time": "2021-03-04T21:07:17.651996Z",
     "start_time": "2021-03-04T21:07:17.629583Z"
    }
   },
   "outputs": [
    {
     "data": {
      "text/html": [
       "<div>\n",
       "<style scoped>\n",
       "    .dataframe tbody tr th:only-of-type {\n",
       "        vertical-align: middle;\n",
       "    }\n",
       "\n",
       "    .dataframe tbody tr th {\n",
       "        vertical-align: top;\n",
       "    }\n",
       "\n",
       "    .dataframe thead th {\n",
       "        text-align: right;\n",
       "    }\n",
       "</style>\n",
       "<table border=\"1\" class=\"dataframe\">\n",
       "  <thead>\n",
       "    <tr style=\"text-align: right;\">\n",
       "      <th></th>\n",
       "      <th>1293104</th>\n",
       "      <th>1293139</th>\n",
       "      <th>1293561</th>\n",
       "      <th>1293588</th>\n",
       "      <th>1293690</th>\n",
       "      <th>1293730</th>\n",
       "      <th>1294004</th>\n",
       "      <th>1294031</th>\n",
       "      <th>1294196</th>\n",
       "      <th>1294223</th>\n",
       "      <th>...</th>\n",
       "      <th>1295393</th>\n",
       "      <th>1295430</th>\n",
       "      <th>1295590</th>\n",
       "      <th>1295680</th>\n",
       "      <th>1295743</th>\n",
       "      <th>1295770</th>\n",
       "      <th>1295876</th>\n",
       "      <th>1295903</th>\n",
       "      <th>1295937</th>\n",
       "      <th>1295979</th>\n",
       "    </tr>\n",
       "  </thead>\n",
       "  <tbody>\n",
       "    <tr>\n",
       "      <th>SW1710</th>\n",
       "      <td>NaN</td>\n",
       "      <td>NaN</td>\n",
       "      <td>NaN</td>\n",
       "      <td>NaN</td>\n",
       "      <td>1</td>\n",
       "      <td>NaN</td>\n",
       "      <td>NaN</td>\n",
       "      <td>1</td>\n",
       "      <td>1</td>\n",
       "      <td>NaN</td>\n",
       "      <td>...</td>\n",
       "      <td>NaN</td>\n",
       "      <td>NaN</td>\n",
       "      <td>1</td>\n",
       "      <td>NaN</td>\n",
       "      <td>1</td>\n",
       "      <td>NaN</td>\n",
       "      <td>1</td>\n",
       "      <td>NaN</td>\n",
       "      <td>NaN</td>\n",
       "      <td>NaN</td>\n",
       "    </tr>\n",
       "    <tr>\n",
       "      <th>NCIH196</th>\n",
       "      <td>NaN</td>\n",
       "      <td>NaN</td>\n",
       "      <td>0</td>\n",
       "      <td>NaN</td>\n",
       "      <td>0.5</td>\n",
       "      <td>NaN</td>\n",
       "      <td>1</td>\n",
       "      <td>1</td>\n",
       "      <td>0</td>\n",
       "      <td>NaN</td>\n",
       "      <td>...</td>\n",
       "      <td>NaN</td>\n",
       "      <td>NaN</td>\n",
       "      <td>0.666667</td>\n",
       "      <td>1</td>\n",
       "      <td>0.25</td>\n",
       "      <td>NaN</td>\n",
       "      <td>1</td>\n",
       "      <td>1</td>\n",
       "      <td>NaN</td>\n",
       "      <td>NaN</td>\n",
       "    </tr>\n",
       "  </tbody>\n",
       "</table>\n",
       "<p>2 rows × 35 columns</p>\n",
       "</div>"
      ],
      "text/plain": [
       "        1293104 1293139 1293561 1293588 1293690 1293730 1294004 1294031  \\\n",
       "SW1710      NaN     NaN     NaN     NaN       1     NaN     NaN       1   \n",
       "NCIH196     NaN     NaN       0     NaN     0.5     NaN       1       1   \n",
       "\n",
       "        1294196 1294223  ... 1295393 1295430   1295590 1295680 1295743  \\\n",
       "SW1710        1     NaN  ...     NaN     NaN         1     NaN       1   \n",
       "NCIH196       0     NaN  ...     NaN     NaN  0.666667       1    0.25   \n",
       "\n",
       "        1295770 1295876 1295903 1295937 1295979  \n",
       "SW1710      NaN       1     NaN     NaN     NaN  \n",
       "NCIH196     NaN       1       1     NaN     NaN  \n",
       "\n",
       "[2 rows x 35 columns]"
      ]
     },
     "execution_count": 15,
     "metadata": {},
     "output_type": "execute_result"
    }
   ],
   "source": [
    "# Uncomment for debugging\n",
    "modes"
   ]
  },
  {
   "cell_type": "code",
   "execution_count": 16,
   "metadata": {
    "ExecuteTime": {
     "end_time": "2021-03-04T21:07:18.081210Z",
     "start_time": "2021-03-04T21:07:18.065549Z"
    }
   },
   "outputs": [],
   "source": [
    "diff = pyllelic.find_diffs(means, modes)"
   ]
  },
  {
   "cell_type": "code",
   "execution_count": 17,
   "metadata": {
    "ExecuteTime": {
     "end_time": "2021-03-04T21:07:18.658937Z",
     "start_time": "2021-03-04T21:07:18.640903Z"
    }
   },
   "outputs": [
    {
     "data": {
      "text/html": [
       "<div>\n",
       "<style scoped>\n",
       "    .dataframe tbody tr th:only-of-type {\n",
       "        vertical-align: middle;\n",
       "    }\n",
       "\n",
       "    .dataframe tbody tr th {\n",
       "        vertical-align: top;\n",
       "    }\n",
       "\n",
       "    .dataframe thead th {\n",
       "        text-align: right;\n",
       "    }\n",
       "</style>\n",
       "<table border=\"1\" class=\"dataframe\">\n",
       "  <thead>\n",
       "    <tr style=\"text-align: right;\">\n",
       "      <th></th>\n",
       "      <th>1293104</th>\n",
       "      <th>1293139</th>\n",
       "      <th>1293561</th>\n",
       "      <th>1293588</th>\n",
       "      <th>1293690</th>\n",
       "      <th>1293730</th>\n",
       "      <th>1294004</th>\n",
       "      <th>1294031</th>\n",
       "      <th>1294196</th>\n",
       "      <th>1294223</th>\n",
       "      <th>...</th>\n",
       "      <th>1295393</th>\n",
       "      <th>1295430</th>\n",
       "      <th>1295590</th>\n",
       "      <th>1295680</th>\n",
       "      <th>1295743</th>\n",
       "      <th>1295770</th>\n",
       "      <th>1295876</th>\n",
       "      <th>1295903</th>\n",
       "      <th>1295937</th>\n",
       "      <th>1295979</th>\n",
       "    </tr>\n",
       "  </thead>\n",
       "  <tbody>\n",
       "    <tr>\n",
       "      <th>SW1710</th>\n",
       "      <td>NaN</td>\n",
       "      <td>NaN</td>\n",
       "      <td>NaN</td>\n",
       "      <td>NaN</td>\n",
       "      <td>-0.2</td>\n",
       "      <td>NaN</td>\n",
       "      <td>NaN</td>\n",
       "      <td>0</td>\n",
       "      <td>0</td>\n",
       "      <td>NaN</td>\n",
       "      <td>...</td>\n",
       "      <td>NaN</td>\n",
       "      <td>NaN</td>\n",
       "      <td>-0.0384615</td>\n",
       "      <td>NaN</td>\n",
       "      <td>-0.0357143</td>\n",
       "      <td>NaN</td>\n",
       "      <td>0</td>\n",
       "      <td>NaN</td>\n",
       "      <td>NaN</td>\n",
       "      <td>NaN</td>\n",
       "    </tr>\n",
       "    <tr>\n",
       "      <th>NCIH196</th>\n",
       "      <td>NaN</td>\n",
       "      <td>NaN</td>\n",
       "      <td>0</td>\n",
       "      <td>NaN</td>\n",
       "      <td>-0.220126</td>\n",
       "      <td>NaN</td>\n",
       "      <td>-0.302326</td>\n",
       "      <td>0</td>\n",
       "      <td>0.283784</td>\n",
       "      <td>NaN</td>\n",
       "      <td>...</td>\n",
       "      <td>NaN</td>\n",
       "      <td>NaN</td>\n",
       "      <td>-0.0471976</td>\n",
       "      <td>0</td>\n",
       "      <td>0.225352</td>\n",
       "      <td>NaN</td>\n",
       "      <td>-0.0989011</td>\n",
       "      <td>0</td>\n",
       "      <td>NaN</td>\n",
       "      <td>NaN</td>\n",
       "    </tr>\n",
       "  </tbody>\n",
       "</table>\n",
       "<p>2 rows × 35 columns</p>\n",
       "</div>"
      ],
      "text/plain": [
       "        1293104 1293139 1293561 1293588   1293690 1293730   1294004 1294031  \\\n",
       "SW1710      NaN     NaN     NaN     NaN      -0.2     NaN       NaN       0   \n",
       "NCIH196     NaN     NaN       0     NaN -0.220126     NaN -0.302326       0   \n",
       "\n",
       "          1294196 1294223  ... 1295393 1295430    1295590 1295680    1295743  \\\n",
       "SW1710          0     NaN  ...     NaN     NaN -0.0384615     NaN -0.0357143   \n",
       "NCIH196  0.283784     NaN  ...     NaN     NaN -0.0471976       0   0.225352   \n",
       "\n",
       "        1295770    1295876 1295903 1295937 1295979  \n",
       "SW1710      NaN          0     NaN     NaN     NaN  \n",
       "NCIH196     NaN -0.0989011       0     NaN     NaN  \n",
       "\n",
       "[2 rows x 35 columns]"
      ]
     },
     "execution_count": 17,
     "metadata": {},
     "output_type": "execute_result"
    }
   ],
   "source": [
    "# Uncomment for debugging\n",
    "diff"
   ]
  },
  {
   "cell_type": "markdown",
   "metadata": {},
   "source": [
    "## Write Output to excel files"
   ]
  },
  {
   "cell_type": "code",
   "execution_count": null,
   "metadata": {
    "ExecuteTime": {
     "end_time": "2021-02-24T21:04:17.664551Z",
     "start_time": "2021-02-24T21:04:17.081534Z"
    }
   },
   "outputs": [],
   "source": [
    "# Set the filename to whatever you want\n",
    "pyllelic.write_means_modes_diffs(means, modes, diff, \"Test8\")"
   ]
  },
  {
   "cell_type": "markdown",
   "metadata": {},
   "source": [
    "## Visualizing Data"
   ]
  },
  {
   "cell_type": "code",
   "execution_count": null,
   "metadata": {
    "ExecuteTime": {
     "end_time": "2021-02-24T21:04:54.284871Z",
     "start_time": "2021-02-24T21:04:54.265530Z"
    }
   },
   "outputs": [],
   "source": [
    "final_data = pyllelic.pd.read_excel(\n",
    "    pyllelic.config.base_directory.joinpath(\"Test7_diff.xlsx\"),\n",
    "    dtype=str,\n",
    "    index_col=0,\n",
    "    engine=\"openpyxl\",\n",
    ")"
   ]
  },
  {
   "cell_type": "code",
   "execution_count": null,
   "metadata": {
    "ExecuteTime": {
     "end_time": "2021-02-24T21:04:56.162372Z",
     "start_time": "2021-02-24T21:04:56.138801Z"
    }
   },
   "outputs": [],
   "source": [
    "final_data"
   ]
  },
  {
   "cell_type": "code",
   "execution_count": 18,
   "metadata": {
    "ExecuteTime": {
     "end_time": "2021-03-04T21:07:24.332219Z",
     "start_time": "2021-03-04T21:07:22.665193Z"
    }
   },
   "outputs": [
    {
     "data": {
      "application/vnd.jupyter.widget-view+json": {
       "model_id": "70e758ddde234ce3a49790ded8487156",
       "version_major": 2,
       "version_minor": 0
      },
      "text/plain": [
       "Position:   0%|          | 0/35 [00:00<?, ?it/s]"
      ]
     },
     "metadata": {},
     "output_type": "display_data"
    },
    {
     "data": {
      "application/vnd.jupyter.widget-view+json": {
       "model_id": "",
       "version_major": 2,
       "version_minor": 0
      },
      "text/plain": [
       "Cell Line:   0%|          | 0/2 [00:00<?, ?it/s]"
      ]
     },
     "metadata": {},
     "output_type": "display_data"
    },
    {
     "data": {
      "application/vnd.jupyter.widget-view+json": {
       "model_id": "",
       "version_major": 2,
       "version_minor": 0
      },
      "text/plain": [
       "Cell Line:   0%|          | 0/2 [00:00<?, ?it/s]"
      ]
     },
     "metadata": {},
     "output_type": "display_data"
    },
    {
     "data": {
      "application/vnd.jupyter.widget-view+json": {
       "model_id": "",
       "version_major": 2,
       "version_minor": 0
      },
      "text/plain": [
       "Cell Line:   0%|          | 0/2 [00:00<?, ?it/s]"
      ]
     },
     "metadata": {},
     "output_type": "display_data"
    },
    {
     "data": {
      "application/vnd.jupyter.widget-view+json": {
       "model_id": "",
       "version_major": 2,
       "version_minor": 0
      },
      "text/plain": [
       "Cell Line:   0%|          | 0/2 [00:00<?, ?it/s]"
      ]
     },
     "metadata": {},
     "output_type": "display_data"
    },
    {
     "data": {
      "application/vnd.jupyter.widget-view+json": {
       "model_id": "",
       "version_major": 2,
       "version_minor": 0
      },
      "text/plain": [
       "Cell Line:   0%|          | 0/2 [00:00<?, ?it/s]"
      ]
     },
     "metadata": {},
     "output_type": "display_data"
    },
    {
     "data": {
      "application/vnd.jupyter.widget-view+json": {
       "model_id": "",
       "version_major": 2,
       "version_minor": 0
      },
      "text/plain": [
       "Cell Line:   0%|          | 0/2 [00:00<?, ?it/s]"
      ]
     },
     "metadata": {},
     "output_type": "display_data"
    },
    {
     "data": {
      "application/vnd.jupyter.widget-view+json": {
       "model_id": "",
       "version_major": 2,
       "version_minor": 0
      },
      "text/plain": [
       "Cell Line:   0%|          | 0/2 [00:00<?, ?it/s]"
      ]
     },
     "metadata": {},
     "output_type": "display_data"
    },
    {
     "data": {
      "application/vnd.jupyter.widget-view+json": {
       "model_id": "",
       "version_major": 2,
       "version_minor": 0
      },
      "text/plain": [
       "Cell Line:   0%|          | 0/2 [00:00<?, ?it/s]"
      ]
     },
     "metadata": {},
     "output_type": "display_data"
    },
    {
     "data": {
      "application/vnd.jupyter.widget-view+json": {
       "model_id": "",
       "version_major": 2,
       "version_minor": 0
      },
      "text/plain": [
       "Cell Line:   0%|          | 0/2 [00:00<?, ?it/s]"
      ]
     },
     "metadata": {},
     "output_type": "display_data"
    },
    {
     "data": {
      "application/vnd.jupyter.widget-view+json": {
       "model_id": "",
       "version_major": 2,
       "version_minor": 0
      },
      "text/plain": [
       "Cell Line:   0%|          | 0/2 [00:00<?, ?it/s]"
      ]
     },
     "metadata": {},
     "output_type": "display_data"
    },
    {
     "data": {
      "application/vnd.jupyter.widget-view+json": {
       "model_id": "",
       "version_major": 2,
       "version_minor": 0
      },
      "text/plain": [
       "Cell Line:   0%|          | 0/2 [00:00<?, ?it/s]"
      ]
     },
     "metadata": {},
     "output_type": "display_data"
    },
    {
     "data": {
      "application/vnd.jupyter.widget-view+json": {
       "model_id": "",
       "version_major": 2,
       "version_minor": 0
      },
      "text/plain": [
       "Cell Line:   0%|          | 0/2 [00:00<?, ?it/s]"
      ]
     },
     "metadata": {},
     "output_type": "display_data"
    },
    {
     "data": {
      "application/vnd.jupyter.widget-view+json": {
       "model_id": "",
       "version_major": 2,
       "version_minor": 0
      },
      "text/plain": [
       "Cell Line:   0%|          | 0/2 [00:00<?, ?it/s]"
      ]
     },
     "metadata": {},
     "output_type": "display_data"
    },
    {
     "data": {
      "application/vnd.jupyter.widget-view+json": {
       "model_id": "",
       "version_major": 2,
       "version_minor": 0
      },
      "text/plain": [
       "Cell Line:   0%|          | 0/2 [00:00<?, ?it/s]"
      ]
     },
     "metadata": {},
     "output_type": "display_data"
    },
    {
     "data": {
      "application/vnd.jupyter.widget-view+json": {
       "model_id": "",
       "version_major": 2,
       "version_minor": 0
      },
      "text/plain": [
       "Cell Line:   0%|          | 0/2 [00:00<?, ?it/s]"
      ]
     },
     "metadata": {},
     "output_type": "display_data"
    },
    {
     "data": {
      "application/vnd.jupyter.widget-view+json": {
       "model_id": "",
       "version_major": 2,
       "version_minor": 0
      },
      "text/plain": [
       "Cell Line:   0%|          | 0/2 [00:00<?, ?it/s]"
      ]
     },
     "metadata": {},
     "output_type": "display_data"
    },
    {
     "data": {
      "application/vnd.jupyter.widget-view+json": {
       "model_id": "",
       "version_major": 2,
       "version_minor": 0
      },
      "text/plain": [
       "Cell Line:   0%|          | 0/2 [00:00<?, ?it/s]"
      ]
     },
     "metadata": {},
     "output_type": "display_data"
    },
    {
     "data": {
      "application/vnd.jupyter.widget-view+json": {
       "model_id": "",
       "version_major": 2,
       "version_minor": 0
      },
      "text/plain": [
       "Cell Line:   0%|          | 0/2 [00:00<?, ?it/s]"
      ]
     },
     "metadata": {},
     "output_type": "display_data"
    },
    {
     "data": {
      "application/vnd.jupyter.widget-view+json": {
       "model_id": "",
       "version_major": 2,
       "version_minor": 0
      },
      "text/plain": [
       "Cell Line:   0%|          | 0/2 [00:00<?, ?it/s]"
      ]
     },
     "metadata": {},
     "output_type": "display_data"
    },
    {
     "data": {
      "application/vnd.jupyter.widget-view+json": {
       "model_id": "",
       "version_major": 2,
       "version_minor": 0
      },
      "text/plain": [
       "Cell Line:   0%|          | 0/2 [00:00<?, ?it/s]"
      ]
     },
     "metadata": {},
     "output_type": "display_data"
    },
    {
     "data": {
      "application/vnd.jupyter.widget-view+json": {
       "model_id": "",
       "version_major": 2,
       "version_minor": 0
      },
      "text/plain": [
       "Cell Line:   0%|          | 0/2 [00:00<?, ?it/s]"
      ]
     },
     "metadata": {},
     "output_type": "display_data"
    },
    {
     "data": {
      "application/vnd.jupyter.widget-view+json": {
       "model_id": "",
       "version_major": 2,
       "version_minor": 0
      },
      "text/plain": [
       "Cell Line:   0%|          | 0/2 [00:00<?, ?it/s]"
      ]
     },
     "metadata": {},
     "output_type": "display_data"
    },
    {
     "data": {
      "application/vnd.jupyter.widget-view+json": {
       "model_id": "",
       "version_major": 2,
       "version_minor": 0
      },
      "text/plain": [
       "Cell Line:   0%|          | 0/2 [00:00<?, ?it/s]"
      ]
     },
     "metadata": {},
     "output_type": "display_data"
    },
    {
     "data": {
      "application/vnd.jupyter.widget-view+json": {
       "model_id": "",
       "version_major": 2,
       "version_minor": 0
      },
      "text/plain": [
       "Cell Line:   0%|          | 0/2 [00:00<?, ?it/s]"
      ]
     },
     "metadata": {},
     "output_type": "display_data"
    },
    {
     "data": {
      "application/vnd.jupyter.widget-view+json": {
       "model_id": "",
       "version_major": 2,
       "version_minor": 0
      },
      "text/plain": [
       "Cell Line:   0%|          | 0/2 [00:00<?, ?it/s]"
      ]
     },
     "metadata": {},
     "output_type": "display_data"
    },
    {
     "data": {
      "application/vnd.jupyter.widget-view+json": {
       "model_id": "",
       "version_major": 2,
       "version_minor": 0
      },
      "text/plain": [
       "Cell Line:   0%|          | 0/2 [00:00<?, ?it/s]"
      ]
     },
     "metadata": {},
     "output_type": "display_data"
    },
    {
     "data": {
      "application/vnd.jupyter.widget-view+json": {
       "model_id": "",
       "version_major": 2,
       "version_minor": 0
      },
      "text/plain": [
       "Cell Line:   0%|          | 0/2 [00:00<?, ?it/s]"
      ]
     },
     "metadata": {},
     "output_type": "display_data"
    },
    {
     "data": {
      "application/vnd.jupyter.widget-view+json": {
       "model_id": "",
       "version_major": 2,
       "version_minor": 0
      },
      "text/plain": [
       "Cell Line:   0%|          | 0/2 [00:00<?, ?it/s]"
      ]
     },
     "metadata": {},
     "output_type": "display_data"
    },
    {
     "data": {
      "application/vnd.jupyter.widget-view+json": {
       "model_id": "",
       "version_major": 2,
       "version_minor": 0
      },
      "text/plain": [
       "Cell Line:   0%|          | 0/2 [00:00<?, ?it/s]"
      ]
     },
     "metadata": {},
     "output_type": "display_data"
    },
    {
     "data": {
      "application/vnd.jupyter.widget-view+json": {
       "model_id": "",
       "version_major": 2,
       "version_minor": 0
      },
      "text/plain": [
       "Cell Line:   0%|          | 0/2 [00:00<?, ?it/s]"
      ]
     },
     "metadata": {},
     "output_type": "display_data"
    },
    {
     "data": {
      "application/vnd.jupyter.widget-view+json": {
       "model_id": "",
       "version_major": 2,
       "version_minor": 0
      },
      "text/plain": [
       "Cell Line:   0%|          | 0/2 [00:00<?, ?it/s]"
      ]
     },
     "metadata": {},
     "output_type": "display_data"
    },
    {
     "data": {
      "application/vnd.jupyter.widget-view+json": {
       "model_id": "",
       "version_major": 2,
       "version_minor": 0
      },
      "text/plain": [
       "Cell Line:   0%|          | 0/2 [00:00<?, ?it/s]"
      ]
     },
     "metadata": {},
     "output_type": "display_data"
    },
    {
     "data": {
      "application/vnd.jupyter.widget-view+json": {
       "model_id": "",
       "version_major": 2,
       "version_minor": 0
      },
      "text/plain": [
       "Cell Line:   0%|          | 0/2 [00:00<?, ?it/s]"
      ]
     },
     "metadata": {},
     "output_type": "display_data"
    },
    {
     "data": {
      "application/vnd.jupyter.widget-view+json": {
       "model_id": "",
       "version_major": 2,
       "version_minor": 0
      },
      "text/plain": [
       "Cell Line:   0%|          | 0/2 [00:00<?, ?it/s]"
      ]
     },
     "metadata": {},
     "output_type": "display_data"
    },
    {
     "data": {
      "application/vnd.jupyter.widget-view+json": {
       "model_id": "",
       "version_major": 2,
       "version_minor": 0
      },
      "text/plain": [
       "Cell Line:   0%|          | 0/2 [00:00<?, ?it/s]"
      ]
     },
     "metadata": {},
     "output_type": "display_data"
    }
   ],
   "source": [
    "individual_data = pyllelic.return_individual_data(df_list, positions, files_set)"
   ]
  },
  {
   "cell_type": "code",
   "execution_count": null,
   "metadata": {
    "ExecuteTime": {
     "end_time": "2021-03-04T16:17:52.005772Z",
     "start_time": "2021-03-04T16:17:51.924479Z"
    }
   },
   "outputs": [],
   "source": [
    "# Uncomment for debugging\n",
    "individual_data"
   ]
  },
  {
   "cell_type": "code",
   "execution_count": null,
   "metadata": {
    "ExecuteTime": {
     "end_time": "2021-02-24T21:02:54.313975Z",
     "start_time": "2021-02-24T21:02:48.343649Z"
    }
   },
   "outputs": [],
   "source": [
    "pyllelic.histogram(individual_data, \"SW1710\", \"1293690\")"
   ]
  },
  {
   "cell_type": "code",
   "execution_count": null,
   "metadata": {
    "ExecuteTime": {
     "end_time": "2021-02-24T21:02:54.369434Z",
     "start_time": "2021-02-24T21:02:54.316821Z"
    }
   },
   "outputs": [],
   "source": [
    "pyllelic.histogram(individual_data, \"NCIH196\", \"1294004\")"
   ]
  },
  {
   "cell_type": "code",
   "execution_count": null,
   "metadata": {
    "ExecuteTime": {
     "end_time": "2021-02-11T20:12:40.055450Z",
     "start_time": "2021-02-11T20:12:40.049862Z"
    }
   },
   "outputs": [],
   "source": [
    "final_data.loc[\"SORTED\"]"
   ]
  },
  {
   "cell_type": "markdown",
   "metadata": {},
   "source": [
    "## Statistical Tests for Normality"
   ]
  },
  {
   "cell_type": "code",
   "execution_count": 19,
   "metadata": {
    "ExecuteTime": {
     "end_time": "2021-03-04T21:07:57.550447Z",
     "start_time": "2021-03-04T21:07:57.489696Z"
    }
   },
   "outputs": [
    {
     "name": "stderr",
     "output_type": "stream",
     "text": [
      "/Users/abonham/miniconda3/envs/methyl/lib/python3.7/site-packages/scipy/stats/morestats.py:1780: RuntimeWarning: invalid value encountered in true_divide\n",
      "  w = (y - xbar) / s\n"
     ]
    },
    {
     "data": {
      "text/html": [
       "<div>\n",
       "<style scoped>\n",
       "    .dataframe tbody tr th:only-of-type {\n",
       "        vertical-align: middle;\n",
       "    }\n",
       "\n",
       "    .dataframe tbody tr th {\n",
       "        vertical-align: top;\n",
       "    }\n",
       "\n",
       "    .dataframe thead th {\n",
       "        text-align: right;\n",
       "    }\n",
       "</style>\n",
       "<table border=\"1\" class=\"dataframe\">\n",
       "  <thead>\n",
       "    <tr style=\"text-align: right;\">\n",
       "      <th></th>\n",
       "      <th>cellLine</th>\n",
       "      <th>position</th>\n",
       "      <th>ad_stat</th>\n",
       "      <th>p_crit</th>\n",
       "      <th>diff</th>\n",
       "      <th>raw</th>\n",
       "    </tr>\n",
       "  </thead>\n",
       "  <tbody>\n",
       "    <tr>\n",
       "      <th>0</th>\n",
       "      <td>SW1710</td>\n",
       "      <td>1294945</td>\n",
       "      <td>3.552949</td>\n",
       "      <td>0.943</td>\n",
       "      <td>0.157143</td>\n",
       "      <td>[0.0, 0.0, 0.0, 0.0, 0.0, 0.0, 0.0, 0.0, 0.0, ...</td>\n",
       "    </tr>\n",
       "    <tr>\n",
       "      <th>1</th>\n",
       "      <td>SW1710</td>\n",
       "      <td>1295089</td>\n",
       "      <td>3.560160</td>\n",
       "      <td>0.954</td>\n",
       "      <td>-0.333333</td>\n",
       "      <td>[0.0, 0.0, 0.0, 0.0, 0.0, 0.0, 1.0, 1.0, 1.0, ...</td>\n",
       "    </tr>\n",
       "    <tr>\n",
       "      <th>2</th>\n",
       "      <td>SW1710</td>\n",
       "      <td>1295590</td>\n",
       "      <td>8.204686</td>\n",
       "      <td>0.978</td>\n",
       "      <td>-0.038462</td>\n",
       "      <td>[0.6666666666666666, 0.6666666666666666, 0.666...</td>\n",
       "    </tr>\n",
       "    <tr>\n",
       "      <th>3</th>\n",
       "      <td>SW1710</td>\n",
       "      <td>1295743</td>\n",
       "      <td>10.434122</td>\n",
       "      <td>0.998</td>\n",
       "      <td>-0.035714</td>\n",
       "      <td>[0.75, 0.75, 0.75, 0.75, 0.75, 1.0, 1.0, 1.0, ...</td>\n",
       "    </tr>\n",
       "    <tr>\n",
       "      <th>4</th>\n",
       "      <td>NCIH196</td>\n",
       "      <td>1293690</td>\n",
       "      <td>28.944140</td>\n",
       "      <td>1.066</td>\n",
       "      <td>-0.220126</td>\n",
       "      <td>[0.0, 0.0, 0.0, 0.0, 0.0, 0.0, 0.0, 0.0, 0.0, ...</td>\n",
       "    </tr>\n",
       "    <tr>\n",
       "      <th>5</th>\n",
       "      <td>NCIH196</td>\n",
       "      <td>1294004</td>\n",
       "      <td>3.844062</td>\n",
       "      <td>1.012</td>\n",
       "      <td>-0.302326</td>\n",
       "      <td>[0.0, 0.0, 0.0, 0.3333333333333333, 0.33333333...</td>\n",
       "    </tr>\n",
       "    <tr>\n",
       "      <th>6</th>\n",
       "      <td>NCIH196</td>\n",
       "      <td>1294196</td>\n",
       "      <td>11.181318</td>\n",
       "      <td>1.041</td>\n",
       "      <td>0.283784</td>\n",
       "      <td>[0.0, 0.0, 0.0, 0.0, 0.0, 0.0, 0.0, 0.0, 0.0, ...</td>\n",
       "    </tr>\n",
       "    <tr>\n",
       "      <th>7</th>\n",
       "      <td>NCIH196</td>\n",
       "      <td>1294316</td>\n",
       "      <td>9.396286</td>\n",
       "      <td>1.042</td>\n",
       "      <td>0.328947</td>\n",
       "      <td>[0.0, 0.0, 0.0, 0.0, 0.0, 0.0, 0.0, 0.0, 0.0, ...</td>\n",
       "    </tr>\n",
       "    <tr>\n",
       "      <th>8</th>\n",
       "      <td>NCIH196</td>\n",
       "      <td>1294419</td>\n",
       "      <td>10.317001</td>\n",
       "      <td>1.035</td>\n",
       "      <td>0.443182</td>\n",
       "      <td>[0.0, 0.0, 0.0, 0.0, 0.0, 0.0, 0.0, 0.0, 0.0, ...</td>\n",
       "    </tr>\n",
       "    <tr>\n",
       "      <th>9</th>\n",
       "      <td>NCIH196</td>\n",
       "      <td>1294945</td>\n",
       "      <td>7.188540</td>\n",
       "      <td>1.053</td>\n",
       "      <td>-0.192157</td>\n",
       "      <td>[0.2, 0.2, 0.2, 0.2, 0.2, 0.4, 0.4, 0.4, 0.4, ...</td>\n",
       "    </tr>\n",
       "    <tr>\n",
       "      <th>10</th>\n",
       "      <td>NCIH196</td>\n",
       "      <td>1295089</td>\n",
       "      <td>17.888839</td>\n",
       "      <td>1.064</td>\n",
       "      <td>0.324263</td>\n",
       "      <td>[0.0, 0.0, 0.0, 0.0, 0.0, 0.0, 0.0, 0.0, 0.0, ...</td>\n",
       "    </tr>\n",
       "    <tr>\n",
       "      <th>11</th>\n",
       "      <td>NCIH196</td>\n",
       "      <td>1295365</td>\n",
       "      <td>11.792407</td>\n",
       "      <td>1.050</td>\n",
       "      <td>-0.301418</td>\n",
       "      <td>[0.0, 0.0, 0.0, 0.0, 0.0, 0.0, 0.0, 0.0, 0.0, ...</td>\n",
       "    </tr>\n",
       "    <tr>\n",
       "      <th>12</th>\n",
       "      <td>NCIH196</td>\n",
       "      <td>1295590</td>\n",
       "      <td>11.596098</td>\n",
       "      <td>1.057</td>\n",
       "      <td>-0.047198</td>\n",
       "      <td>[0.0, 0.0, 0.0, 0.0, 0.0, 0.0, 0.0, 0.0, 0.0, ...</td>\n",
       "    </tr>\n",
       "    <tr>\n",
       "      <th>13</th>\n",
       "      <td>NCIH196</td>\n",
       "      <td>1295743</td>\n",
       "      <td>2.550530</td>\n",
       "      <td>1.039</td>\n",
       "      <td>0.225352</td>\n",
       "      <td>[0.0, 0.0, 0.0, 0.0, 0.0, 0.0, 0.0, 0.0, 0.0, ...</td>\n",
       "    </tr>\n",
       "    <tr>\n",
       "      <th>14</th>\n",
       "      <td>NCIH196</td>\n",
       "      <td>1295876</td>\n",
       "      <td>29.958579</td>\n",
       "      <td>1.049</td>\n",
       "      <td>-0.098901</td>\n",
       "      <td>[0.0, 0.0, 0.0, 0.0, 0.0, 0.0, 0.0, 0.0, 0.0, ...</td>\n",
       "    </tr>\n",
       "  </tbody>\n",
       "</table>\n",
       "</div>"
      ],
      "text/plain": [
       "   cellLine position    ad_stat  p_crit      diff  \\\n",
       "0    SW1710  1294945   3.552949   0.943  0.157143   \n",
       "1    SW1710  1295089   3.560160   0.954 -0.333333   \n",
       "2    SW1710  1295590   8.204686   0.978 -0.038462   \n",
       "3    SW1710  1295743  10.434122   0.998 -0.035714   \n",
       "4   NCIH196  1293690  28.944140   1.066 -0.220126   \n",
       "5   NCIH196  1294004   3.844062   1.012 -0.302326   \n",
       "6   NCIH196  1294196  11.181318   1.041  0.283784   \n",
       "7   NCIH196  1294316   9.396286   1.042  0.328947   \n",
       "8   NCIH196  1294419  10.317001   1.035  0.443182   \n",
       "9   NCIH196  1294945   7.188540   1.053 -0.192157   \n",
       "10  NCIH196  1295089  17.888839   1.064  0.324263   \n",
       "11  NCIH196  1295365  11.792407   1.050 -0.301418   \n",
       "12  NCIH196  1295590  11.596098   1.057 -0.047198   \n",
       "13  NCIH196  1295743   2.550530   1.039  0.225352   \n",
       "14  NCIH196  1295876  29.958579   1.049 -0.098901   \n",
       "\n",
       "                                                  raw  \n",
       "0   [0.0, 0.0, 0.0, 0.0, 0.0, 0.0, 0.0, 0.0, 0.0, ...  \n",
       "1   [0.0, 0.0, 0.0, 0.0, 0.0, 0.0, 1.0, 1.0, 1.0, ...  \n",
       "2   [0.6666666666666666, 0.6666666666666666, 0.666...  \n",
       "3   [0.75, 0.75, 0.75, 0.75, 0.75, 1.0, 1.0, 1.0, ...  \n",
       "4   [0.0, 0.0, 0.0, 0.0, 0.0, 0.0, 0.0, 0.0, 0.0, ...  \n",
       "5   [0.0, 0.0, 0.0, 0.3333333333333333, 0.33333333...  \n",
       "6   [0.0, 0.0, 0.0, 0.0, 0.0, 0.0, 0.0, 0.0, 0.0, ...  \n",
       "7   [0.0, 0.0, 0.0, 0.0, 0.0, 0.0, 0.0, 0.0, 0.0, ...  \n",
       "8   [0.0, 0.0, 0.0, 0.0, 0.0, 0.0, 0.0, 0.0, 0.0, ...  \n",
       "9   [0.2, 0.2, 0.2, 0.2, 0.2, 0.4, 0.4, 0.4, 0.4, ...  \n",
       "10  [0.0, 0.0, 0.0, 0.0, 0.0, 0.0, 0.0, 0.0, 0.0, ...  \n",
       "11  [0.0, 0.0, 0.0, 0.0, 0.0, 0.0, 0.0, 0.0, 0.0, ...  \n",
       "12  [0.0, 0.0, 0.0, 0.0, 0.0, 0.0, 0.0, 0.0, 0.0, ...  \n",
       "13  [0.0, 0.0, 0.0, 0.0, 0.0, 0.0, 0.0, 0.0, 0.0, ...  \n",
       "14  [0.0, 0.0, 0.0, 0.0, 0.0, 0.0, 0.0, 0.0, 0.0, ...  "
      ]
     },
     "execution_count": 19,
     "metadata": {},
     "output_type": "execute_result"
    }
   ],
   "source": [
    "pyllelic.summarize_allelic_data(individual_data, diff)"
   ]
  },
  {
   "cell_type": "code",
   "execution_count": null,
   "metadata": {},
   "outputs": [],
   "source": []
  }
 ],
 "metadata": {
  "kernelspec": {
   "display_name": "Python 3",
   "language": "python",
   "name": "python3"
  },
  "language_info": {
   "codemirror_mode": {
    "name": "ipython",
    "version": 3
   },
   "file_extension": ".py",
   "mimetype": "text/x-python",
   "name": "python",
   "nbconvert_exporter": "python",
   "pygments_lexer": "ipython3",
   "version": "3.7.8"
  },
  "toc": {
   "base_numbering": 1,
   "nav_menu": {},
   "number_sections": true,
   "sideBar": true,
   "skip_h1_title": false,
   "title_cell": "Table of Contents",
   "title_sidebar": "Contents",
   "toc_cell": false,
   "toc_position": {},
   "toc_section_display": true,
   "toc_window_display": false
  }
 },
 "nbformat": 4,
 "nbformat_minor": 4
}
