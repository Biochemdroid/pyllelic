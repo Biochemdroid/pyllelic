#New
{
 "cells": [
  {
   "cell_type": "code",
   "execution_count": 1,
   "id": "d71f8128",
   "metadata": {},
   "outputs": [],
   "source": [
    "import pyllelic\n",
    "#Sending to GitHub"
   ]
  },
  {
   "cell_type": "code",
   "execution_count": 2,
   "id": "ad39d4c0",
   "metadata": {},
   "outputs": [
    {
     "name": "stdout",
     "output_type": "stream",
     "text": [
      "/home/dylan/pyllelic\n"
     ]
    }
   ],
   "source": [
    "import os\n",
    "print(os.getcwd())"
   ]
  },
  {
   "cell_type": "code",
   "execution_count": 3,
   "id": "cfe8b534",
   "metadata": {},
   "outputs": [],
   "source": [
    "# set up your disk location:\n",
    "# base_path should be the directory we'll do our work in\n",
    "# make a sub-directory under base_path with a folder named \"test\"\n",
    "# and put the .bam and .bai files in \"test\"\n",
    "\n",
    "# OSX setup\n",
    "# pyllelic.set_up_env_variables(\n",
    "#     base_path=\"/Users/abonham/documents/test_allelic/\",\n",
    "#     prom_file=\"TERT-promoter-genomic-sequence.txt\",\n",
    "#     prom_start=\"1293000\",\n",
    "#     prom_end=\"1296000\",\n",
    "#     chrom=\"5\",\n",
    "#     offset=1298163,\n",
    "# )\n",
    "\n",
    "# Windows set-up\n",
    "pyllelic.set_up_env_variables(\n",
    "    base_path=\"/home/dylan/pyllelic\",\n",
    "    prom_file=\"TERT-promoter-genomic-sequence.txt\",\n",
    "    prom_start=\"1293000\",\n",
    "    prom_end=\"1296000\",\n",
    "    chrom=\"chr5\",\n",
    "    offset=1298163,\n",
    ")\n"
   ]
  },
  {
   "cell_type": "code",
   "execution_count": 4,
   "id": "e8f5edf4",
   "metadata": {},
   "outputs": [],
   "source": [
    "files_set = pyllelic.make_list_of_bam_files()  # finds bam files"
   ]
  },
  {
   "cell_type": "code",
   "execution_count": 5,
   "id": "698a0ad1",
   "metadata": {},
   "outputs": [
    {
     "data": {
      "text/plain": [
       "['fh_SW1710_URINARY_TRACT.TERT.bam']"
      ]
     },
     "execution_count": 5,
     "metadata": {},
     "output_type": "execute_result"
    }
   ],
   "source": [
    "files_set "
   ]
  },
  {
   "cell_type": "code",
   "execution_count": 6,
   "id": "96325f84",
   "metadata": {},
   "outputs": [
    {
     "data": {
      "application/vnd.jupyter.widget-view+json": {
       "model_id": "11812295acf54c27975bbfc6472f5c1a",
       "version_major": 2,
       "version_minor": 0
      },
      "text/plain": [
       "  0%|          | 0/1 [00:00<?, ?it/s]"
      ]
     },
     "metadata": {},
     "output_type": "display_data"
    },
    {
     "ename": "AttributeError",
     "evalue": "'Config' object has no attribute 'chrom'",
     "output_type": "error",
     "traceback": [
      "\u001b[0;31m---------------------------------------------------------------------------\u001b[0m",
      "\u001b[0;31mAttributeError\u001b[0m                            Traceback (most recent call last)",
      "\u001b[0;32m<ipython-input-6-1104b30b0d58>\u001b[0m in \u001b[0;36m<module>\u001b[0;34m\u001b[0m\n\u001b[1;32m      1\u001b[0m \u001b[0;31m# index bam and creates bam_output folders/files\u001b[0m\u001b[0;34m\u001b[0m\u001b[0;34m\u001b[0m\u001b[0;34m\u001b[0m\u001b[0m\n\u001b[1;32m      2\u001b[0m \u001b[0;31m# set process False to skip writing output files if they already exist\u001b[0m\u001b[0;34m\u001b[0m\u001b[0;34m\u001b[0m\u001b[0;34m\u001b[0m\u001b[0m\n\u001b[0;32m----> 3\u001b[0;31m \u001b[0mpositions\u001b[0m \u001b[0;34m=\u001b[0m \u001b[0mpyllelic\u001b[0m\u001b[0;34m.\u001b[0m\u001b[0mindex_and_fetch\u001b[0m\u001b[0;34m(\u001b[0m\u001b[0mfiles_set\u001b[0m\u001b[0;34m,\u001b[0m \u001b[0mprocess\u001b[0m\u001b[0;34m=\u001b[0m\u001b[0;32mTrue\u001b[0m\u001b[0;34m)\u001b[0m\u001b[0;34m\u001b[0m\u001b[0;34m\u001b[0m\u001b[0m\n\u001b[0m",
      "\u001b[0;32m~/pyllelic/pyllelic/pyllelic.py\u001b[0m in \u001b[0;36mindex_and_fetch\u001b[0;34m(files_set, process)\u001b[0m\n\u001b[1;32m    143\u001b[0m     \u001b[0mall_pos\u001b[0m\u001b[0;34m:\u001b[0m \u001b[0mSet\u001b[0m \u001b[0;34m=\u001b[0m \u001b[0mset\u001b[0m\u001b[0;34m(\u001b[0m\u001b[0;34m)\u001b[0m\u001b[0;34m\u001b[0m\u001b[0;34m\u001b[0m\u001b[0m\n\u001b[1;32m    144\u001b[0m     \u001b[0;32mfor\u001b[0m \u001b[0msams\u001b[0m \u001b[0;32min\u001b[0m \u001b[0mtqdm\u001b[0m\u001b[0;34m(\u001b[0m\u001b[0msam_path\u001b[0m\u001b[0;34m)\u001b[0m\u001b[0;34m:\u001b[0m\u001b[0;34m\u001b[0m\u001b[0;34m\u001b[0m\u001b[0m\n\u001b[0;32m--> 145\u001b[0;31m         \u001b[0mpos\u001b[0m\u001b[0;34m:\u001b[0m \u001b[0mpd\u001b[0m\u001b[0;34m.\u001b[0m\u001b[0mIndex\u001b[0m \u001b[0;34m=\u001b[0m \u001b[0mrun_sam_and_extract_df\u001b[0m\u001b[0;34m(\u001b[0m\u001b[0msams\u001b[0m\u001b[0;34m,\u001b[0m \u001b[0mprocess\u001b[0m\u001b[0;34m)\u001b[0m\u001b[0;34m\u001b[0m\u001b[0;34m\u001b[0m\u001b[0m\n\u001b[0m\u001b[1;32m    146\u001b[0m         \u001b[0mall_pos\u001b[0m\u001b[0;34m.\u001b[0m\u001b[0mupdate\u001b[0m\u001b[0;34m(\u001b[0m\u001b[0mpos\u001b[0m\u001b[0;34m)\u001b[0m\u001b[0;34m\u001b[0m\u001b[0;34m\u001b[0m\u001b[0m\n\u001b[1;32m    147\u001b[0m \u001b[0;34m\u001b[0m\u001b[0m\n",
      "\u001b[0;32m~/pyllelic/pyllelic/pyllelic.py\u001b[0m in \u001b[0;36mrun_sam_and_extract_df\u001b[0;34m(sams, process)\u001b[0m\n\u001b[1;32m    168\u001b[0m     \u001b[0msamm\u001b[0m\u001b[0;34m:\u001b[0m \u001b[0mpysam\u001b[0m\u001b[0;34m.\u001b[0m\u001b[0mAlignmentFile\u001b[0m \u001b[0;34m=\u001b[0m \u001b[0mpysam\u001b[0m\u001b[0;34m.\u001b[0m\u001b[0mAlignmentFile\u001b[0m\u001b[0;34m(\u001b[0m\u001b[0msams\u001b[0m\u001b[0;34m,\u001b[0m \u001b[0;34m\"rb\"\u001b[0m\u001b[0;34m)\u001b[0m\u001b[0;34m\u001b[0m\u001b[0;34m\u001b[0m\u001b[0m\n\u001b[1;32m    169\u001b[0m     itern = samm.fetch(\n\u001b[0;32m--> 170\u001b[0;31m         \u001b[0mconfig\u001b[0m\u001b[0;34m.\u001b[0m\u001b[0mchrom\u001b[0m\u001b[0;34m,\u001b[0m \u001b[0mint\u001b[0m\u001b[0;34m(\u001b[0m\u001b[0mconfig\u001b[0m\u001b[0;34m.\u001b[0m\u001b[0mpromoter_start\u001b[0m\u001b[0;34m)\u001b[0m\u001b[0;34m,\u001b[0m \u001b[0mint\u001b[0m\u001b[0;34m(\u001b[0m\u001b[0mconfig\u001b[0m\u001b[0;34m.\u001b[0m\u001b[0mpromoter_end\u001b[0m\u001b[0;34m)\u001b[0m\u001b[0;34m\u001b[0m\u001b[0;34m\u001b[0m\u001b[0m\n\u001b[0m\u001b[1;32m    171\u001b[0m     )\n\u001b[1;32m    172\u001b[0m \u001b[0;34m\u001b[0m\u001b[0m\n",
      "\u001b[0;31mAttributeError\u001b[0m: 'Config' object has no attribute 'chrom'"
     ]
    }
   ],
   "source": [
    "# index bam and creates bam_output folders/files\n",
    "# set process False to skip writing output files if they already exist\n",
    "positions = pyllelic.index_and_fetch(files_set, process=True)"
   ]
  },
  {
   "cell_type": "code",
   "execution_count": null,
   "id": "6f5a1613",
   "metadata": {},
   "outputs": [],
   "source": [
    "# Turn off pretty printing to see position list better\n",
    "%pprint"
   ]
  },
  {
   "cell_type": "code",
   "execution_count": null,
   "id": "dd7349c7",
   "metadata": {},
   "outputs": [],
   "source": [
    "# Uncomment for debugging:\n",
    "positions"
   ]
  },
  {
   "cell_type": "code",
   "execution_count": null,
   "id": "72d908bd",
   "metadata": {},
   "outputs": [],
   "source": [
    "# Turn back on pretty printing\n",
    "%pprint"
   ]
  },
  {
   "cell_type": "code",
   "execution_count": null,
   "id": "58d9a853",
   "metadata": {},
   "outputs": [],
   "source": [
    "# Only needs to be run once, generates static files\n",
    "# pyllelic.genome_parsing()\n",
    "\n",
    "# Can also take sub-list of directories to process\n",
    "# pyllelic.genome_parsing([pyllelic.config.bam_directory / \"fh_BONHAM_TISSUE.TERT.bam\"])"
   ]
  },
  {
   "cell_type": "code",
   "execution_count": null,
   "id": "8c512568",
   "metadata": {},
   "outputs": [],
   "source": [
    "cell_types = pyllelic.extract_cell_types(files_set)"
   ]
  },
  {
   "cell_type": "code",
   "execution_count": null,
   "id": "2ac58687",
   "metadata": {},
   "outputs": [],
   "source": [
    "cell_types"
   ]
  },
  {
   "cell_type": "code",
   "execution_count": null,
   "id": "f0758b8d",
   "metadata": {},
   "outputs": [],
   "source": [
    "# Set filename to whatever you want\n",
    "df_list = pyllelic.run_quma_and_compile_list_of_df(\n",
    "    cell_types, \"test2.xlsx\",\n",
    "    run_quma=True,\n",
    ")  # to skip quma: , run_quma=False)"
   ]
  },
  {
   "cell_type": "code",
   "execution_count": null,
   "id": "0464ed65",
   "metadata": {},
   "outputs": [],
   "source": [
    "# Uncomment for debugging\n",
    "df_list.keys()"
   ]
  },
  {
   "cell_type": "code",
   "execution_count": null,
   "id": "50b6ff1d",
   "metadata": {},
   "outputs": [],
   "source": [
    "df_list[\"SORTED\"]"
   ]
  },
  {
   "cell_type": "code",
   "execution_count": null,
   "id": "dcdec775",
   "metadata": {},
   "outputs": [],
   "source": [
    "means = pyllelic.process_means(df_list, positions, files_set)"
   ]
  },
  {
   "cell_type": "code",
   "execution_count": null,
   "id": "91270f16",
   "metadata": {},
   "outputs": [],
   "source": [
    "means"
   ]
  },
  {
   "cell_type": "code",
   "execution_count": null,
   "id": "cf670ff6",
   "metadata": {},
   "outputs": [],
   "source": [
    "modes"
   ]
  },
  {
   "cell_type": "code",
   "execution_count": null,
   "id": "72733a79",
   "metadata": {},
   "outputs": [],
   "source": [
    "diff = pyllelic.find_diffs(means, modes)"
   ]
  },
  {
   "cell_type": "code",
   "execution_count": null,
   "id": "d4fd1d10",
   "metadata": {},
   "outputs": [],
   "source": [
    "diff"
   ]
  },
  {
   "cell_type": "code",
   "execution_count": null,
   "id": "828829b2",
   "metadata": {},
   "outputs": [],
   "source": [
    "# Set the filename to whatever you want\n",
    "pyllelic.write_means_modes_diffs(means, modes, diff, \"Test1\")"
   ]
  },
  {
   "cell_type": "code",
   "execution_count": null,
   "id": "e49bb33d",
   "metadata": {},
   "outputs": [],
   "source": [
    "final_data = pyllelic.pd.read_excel(\n",
    "    pyllelic.config.base_directory.joinpath(\"Test1_diff.xlsx\"),\n",
    "    dtype=str,\n",
    "    index_col=0,\n",
    "    engine=\"openpyxl\",\n",
    ")"
   ]
  },
  {
   "cell_type": "code",
   "execution_count": null,
   "id": "9f33ccc6",
   "metadata": {},
   "outputs": [],
   "source": [
    "final_data"
   ]
  },
  {
   "cell_type": "code",
   "execution_count": null,
   "id": "31d1cb0a",
   "metadata": {},
   "outputs": [],
   "source": [
    "individual_data = pyllelic.return_individual_data(df_list, positions, files_set)"
   ]
  },
  {
   "cell_type": "code",
   "execution_count": null,
   "id": "3a62542f",
   "metadata": {},
   "outputs": [],
   "source": [
    "# Uncomment for debugging\n",
    "individual_data"
   ]
  },
  {
   "cell_type": "code",
   "execution_count": null,
   "id": "7f89377e",
   "metadata": {},
   "outputs": [],
   "source": [
    "individual_data.loc[\"NCIH196\", \"1295937\"]"
   ]
  },
  {
   "cell_type": "code",
   "execution_count": null,
   "id": "6a6d11e6",
   "metadata": {},
   "outputs": [],
   "source": [
    "individual_data.loc[\"SORTED\"][\"1295680\"]"
   ]
  },
  {
   "cell_type": "code",
   "execution_count": null,
   "id": "3c63f39f",
   "metadata": {},
   "outputs": [],
   "source": [
    "individual_data.loc[\"CALU1\"]"
   ]
  },
  {
   "cell_type": "code",
   "execution_count": null,
   "id": "ed341f9b",
   "metadata": {},
   "outputs": [],
   "source": [
    "pyllelic.histogram(individual_data, \"SORTED\", \"1295680\")"
   ]
  },
  {
   "cell_type": "code",
   "execution_count": null,
   "id": "c1a90972",
   "metadata": {},
   "outputs": [],
   "source": [
    "pyllelic.histogram(individual_data, \"SORTED\", \"1295903\")"
   ]
  },
  {
   "cell_type": "code",
   "execution_count": null,
   "id": "c0fa7774",
   "metadata": {},
   "outputs": [],
   "source": [
    "pyllelic.histogram(individual_data, \"SW1710\", \"1295089\")"
   ]
  },
  {
   "cell_type": "code",
   "execution_count": null,
   "id": "9107f4e3",
   "metadata": {},
   "outputs": [],
   "source": [
    "pyllelic.histogram(individual_data, \"CALU1\", \"1295937\")"
   ]
  },
  {
   "cell_type": "code",
   "execution_count": null,
   "id": "68d7408e",
   "metadata": {},
   "outputs": [],
   "source": [
    "pyllelic.histogram(individual_data, \"NCIH196\", \"1295937\")"
   ]
  },
  {
   "cell_type": "code",
   "execution_count": null,
   "id": "392fea88",
   "metadata": {},
   "outputs": [],
   "source": [
    "pyllelic.histogram(individual_data, \"NCIH196\", \"1294945\")"
   ]
  },
  {
   "cell_type": "code",
   "execution_count": null,
   "id": "d807f3ce",
   "metadata": {},
   "outputs": [],
   "source": [
    "final_data.loc[\"SW1710\"]"
   ]
  },
  {
   "cell_type": "markdown",
   "id": "ccb4f3c7",
   "metadata": {},
   "source": [
    "**Statistical Tests for Normality**"
   ]
  },
  {
   "cell_type": "code",
   "execution_count": null,
   "id": "3455428f",
   "metadata": {},
   "outputs": [],
   "source": [
    "pyllelic.summarize_allelic_data(individual_data, diff)"
   ]
  }
 ],
 "metadata": {
  "kernelspec": {
   "display_name": "Python 3",
   "language": "python",
   "name": "python3"
  },
  "language_info": {
   "codemirror_mode": {
    "name": "ipython",
    "version": 3
   },
   "file_extension": ".py",
   "mimetype": "text/x-python",
   "name": "python",
   "nbconvert_exporter": "python",
   "pygments_lexer": "ipython3",
   "version": "3.8.5"
  }
 },
 "nbformat": 4,
 "nbformat_minor": 5
}
