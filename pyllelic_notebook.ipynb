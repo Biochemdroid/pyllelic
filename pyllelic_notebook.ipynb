{
 "cells": [
  {
   "cell_type": "markdown",
   "metadata": {},
   "source": [
    "# Example Pyllelic Use-Case Notebook"
   ]
  },
  {
   "cell_type": "markdown",
   "metadata": {},
   "source": [
    "## Background"
   ]
  },
  {
   "cell_type": "markdown",
   "metadata": {},
   "source": [
    "This notebook illustrates the import and use of `pyllelic` in a jupyter environment.\n",
    "\n",
    "See https://github.com/Paradoxdruid/pyllelic for further details."
   ]
  },
  {
   "cell_type": "markdown",
   "metadata": {},
   "source": [
    "## Set-up"
   ]
  },
  {
   "cell_type": "code",
   "execution_count": 1,
   "metadata": {
    "ExecuteTime": {
     "end_time": "2021-01-06T16:45:17.326138Z",
     "start_time": "2021-01-06T16:45:15.435576Z"
    }
   },
   "outputs": [],
   "source": [
    "import pyllelic"
   ]
  },
  {
   "cell_type": "code",
   "execution_count": 2,
   "metadata": {
    "ExecuteTime": {
     "end_time": "2021-01-06T16:45:17.332597Z",
     "start_time": "2021-01-06T16:45:17.329709Z"
    }
   },
   "outputs": [],
   "source": [
    "# set up your disk location:\n",
    "# base_path should be the directory we'll do our work in\n",
    "# make a sub-directory under base_path with a folder named \"test\"\n",
    "# and put the .bam and .bai files in \"test\"\n",
    "\n",
    "pyllelic.set_up_env_variables(\n",
    "    base_path=\"/Users/abonham/documents/test_allelic/\",\n",
    "    prom_file=\"TERT-promoter-genomic-sequence.txt\",\n",
    "    prom_start=\"1293000\",\n",
    "    prom_end=\"1296000\",\n",
    "    chrom=\"5\",\n",
    ")"
   ]
  },
  {
   "cell_type": "markdown",
   "metadata": {},
   "source": [
    "## Main Parsing Functions"
   ]
  },
  {
   "cell_type": "code",
   "execution_count": 3,
   "metadata": {
    "ExecuteTime": {
     "end_time": "2021-01-06T16:45:17.338756Z",
     "start_time": "2021-01-06T16:45:17.335812Z"
    }
   },
   "outputs": [],
   "source": [
    "files_set = pyllelic.make_list_of_bam_files()  # finds bam files"
   ]
  },
  {
   "cell_type": "code",
   "execution_count": 4,
   "metadata": {
    "ExecuteTime": {
     "end_time": "2021-01-06T16:45:17.343720Z",
     "start_time": "2021-01-06T16:45:17.341318Z"
    }
   },
   "outputs": [],
   "source": [
    "# Uncomment for debugging:\n",
    "# files_set"
   ]
  },
  {
   "cell_type": "code",
   "execution_count": 5,
   "metadata": {
    "ExecuteTime": {
     "end_time": "2021-01-06T16:45:17.706352Z",
     "start_time": "2021-01-06T16:45:17.346010Z"
    }
   },
   "outputs": [],
   "source": [
    "# index bam and creates bam_output folders/files\n",
    "positions = pyllelic.index_and_fetch(files_set)"
   ]
  },
  {
   "cell_type": "code",
   "execution_count": 6,
   "metadata": {
    "ExecuteTime": {
     "end_time": "2021-01-06T16:45:17.873505Z",
     "start_time": "2021-01-06T16:45:17.709020Z"
    }
   },
   "outputs": [],
   "source": [
    "pyllelic.genome_parsing()"
   ]
  },
  {
   "cell_type": "code",
   "execution_count": 7,
   "metadata": {
    "ExecuteTime": {
     "end_time": "2021-01-06T16:45:17.882716Z",
     "start_time": "2021-01-06T16:45:17.879470Z"
    }
   },
   "outputs": [],
   "source": [
    "cell_types = pyllelic.extract_cell_types(files_set)"
   ]
  },
  {
   "cell_type": "code",
   "execution_count": 8,
   "metadata": {
    "ExecuteTime": {
     "end_time": "2021-01-06T16:45:17.887977Z",
     "start_time": "2021-01-06T16:45:17.886116Z"
    }
   },
   "outputs": [],
   "source": [
    "# Uncomment for debugging\n",
    "# cell_types"
   ]
  },
  {
   "cell_type": "code",
   "execution_count": 9,
   "metadata": {
    "ExecuteTime": {
     "end_time": "2021-01-06T16:45:17.953346Z",
     "start_time": "2021-01-06T16:45:17.890236Z"
    }
   },
   "outputs": [],
   "source": [
    "# Set filename to whatever you want\n",
    "df_list = pyllelic.run_quma_and_compile_list_of_df(cell_types, \"tester2.xlsx\", run_quma=False) # to skip quma: , run_quma=False)"
   ]
  },
  {
   "cell_type": "code",
   "execution_count": 10,
   "metadata": {
    "ExecuteTime": {
     "end_time": "2021-01-06T16:45:17.958261Z",
     "start_time": "2021-01-06T16:45:17.955938Z"
    }
   },
   "outputs": [],
   "source": [
    "# Uncomment for debugging\n",
    "# df_list.keys()"
   ]
  },
  {
   "cell_type": "code",
   "execution_count": 11,
   "metadata": {
    "ExecuteTime": {
     "end_time": "2021-01-06T16:45:18.038931Z",
     "start_time": "2021-01-06T16:45:17.960359Z"
    }
   },
   "outputs": [],
   "source": [
    "means = pyllelic.process_means(df_list, positions, files_set)"
   ]
  },
  {
   "cell_type": "code",
   "execution_count": 12,
   "metadata": {
    "ExecuteTime": {
     "end_time": "2021-01-06T16:45:18.045319Z",
     "start_time": "2021-01-06T16:45:18.042192Z"
    }
   },
   "outputs": [],
   "source": [
    "# Uncomment for debugging\n",
    "# means"
   ]
  },
  {
   "cell_type": "code",
   "execution_count": 13,
   "metadata": {
    "ExecuteTime": {
     "end_time": "2021-01-06T16:45:18.112079Z",
     "start_time": "2021-01-06T16:45:18.047676Z"
    }
   },
   "outputs": [],
   "source": [
    "modes = pyllelic.process_modes(df_list, positions, files_set)"
   ]
  },
  {
   "cell_type": "code",
   "execution_count": 14,
   "metadata": {
    "ExecuteTime": {
     "end_time": "2021-01-06T16:45:18.117026Z",
     "start_time": "2021-01-06T16:45:18.114777Z"
    }
   },
   "outputs": [],
   "source": [
    "# Uncomment for debugging\n",
    "# modes"
   ]
  },
  {
   "cell_type": "code",
   "execution_count": 15,
   "metadata": {
    "ExecuteTime": {
     "end_time": "2021-01-06T16:45:18.134106Z",
     "start_time": "2021-01-06T16:45:18.119186Z"
    }
   },
   "outputs": [],
   "source": [
    "diff = pyllelic.find_diffs(means, modes)"
   ]
  },
  {
   "cell_type": "code",
   "execution_count": 16,
   "metadata": {
    "ExecuteTime": {
     "end_time": "2021-01-06T16:45:18.137557Z",
     "start_time": "2021-01-06T16:45:18.135625Z"
    }
   },
   "outputs": [],
   "source": [
    "# Uncomment for debugging\n",
    "# diff"
   ]
  },
  {
   "cell_type": "markdown",
   "metadata": {},
   "source": [
    "## Write Output to excel files"
   ]
  },
  {
   "cell_type": "code",
   "execution_count": 17,
   "metadata": {
    "ExecuteTime": {
     "end_time": "2021-01-06T16:45:18.308261Z",
     "start_time": "2021-01-06T16:45:18.140255Z"
    }
   },
   "outputs": [],
   "source": [
    "# Set the filename to whatever you want\n",
    "pyllelic.write_means_modes_diffs(means, modes, diff, \"Test_Output\")"
   ]
  },
  {
   "cell_type": "markdown",
   "metadata": {},
   "source": [
    "## Visualizing Data"
   ]
  },
  {
   "cell_type": "code",
   "execution_count": 18,
   "metadata": {
    "ExecuteTime": {
     "end_time": "2021-01-06T16:45:18.328172Z",
     "start_time": "2021-01-06T16:45:18.311907Z"
    }
   },
   "outputs": [],
   "source": [
    "final_data = pyllelic.pd.read_excel(pyllelic.config.base_directory.joinpath(\"Test_Output_diff.xlsx\"),\n",
    "        dtype=str,\n",
    "        index_col=0,\n",
    ")"
   ]
  },
  {
   "cell_type": "code",
   "execution_count": 19,
   "metadata": {
    "ExecuteTime": {
     "end_time": "2021-01-06T16:45:18.360029Z",
     "start_time": "2021-01-06T16:45:18.330317Z"
    }
   },
   "outputs": [
    {
     "data": {
      "text/html": [
       "<div>\n",
       "<style scoped>\n",
       "    .dataframe tbody tr th:only-of-type {\n",
       "        vertical-align: middle;\n",
       "    }\n",
       "\n",
       "    .dataframe tbody tr th {\n",
       "        vertical-align: top;\n",
       "    }\n",
       "\n",
       "    .dataframe thead th {\n",
       "        text-align: right;\n",
       "    }\n",
       "</style>\n",
       "<table border=\"1\" class=\"dataframe\">\n",
       "  <thead>\n",
       "    <tr style=\"text-align: right;\">\n",
       "      <th></th>\n",
       "      <th>1293104</th>\n",
       "      <th>1293139</th>\n",
       "      <th>1293561</th>\n",
       "      <th>1293588</th>\n",
       "      <th>1293690</th>\n",
       "      <th>1293730</th>\n",
       "      <th>1294004</th>\n",
       "      <th>1294031</th>\n",
       "      <th>1294196</th>\n",
       "      <th>1294223</th>\n",
       "      <th>...</th>\n",
       "      <th>1295393</th>\n",
       "      <th>1295430</th>\n",
       "      <th>1295590</th>\n",
       "      <th>1295680</th>\n",
       "      <th>1295743</th>\n",
       "      <th>1295770</th>\n",
       "      <th>1295876</th>\n",
       "      <th>1295903</th>\n",
       "      <th>1295937</th>\n",
       "      <th>1295979</th>\n",
       "    </tr>\n",
       "  </thead>\n",
       "  <tbody>\n",
       "    <tr>\n",
       "      <th>fh_NCIH196_LUNG.TERT.bam</th>\n",
       "      <td>NaN</td>\n",
       "      <td>NaN</td>\n",
       "      <td>NaN</td>\n",
       "      <td>NaN</td>\n",
       "      <td>NaN</td>\n",
       "      <td>NaN</td>\n",
       "      <td>NaN</td>\n",
       "      <td>NaN</td>\n",
       "      <td>NaN</td>\n",
       "      <td>NaN</td>\n",
       "      <td>...</td>\n",
       "      <td>NaN</td>\n",
       "      <td>NaN</td>\n",
       "      <td>-0.0471976401179941</td>\n",
       "      <td>0</td>\n",
       "      <td>0.2253521126760563</td>\n",
       "      <td>NaN</td>\n",
       "      <td>-0.09890109890109888</td>\n",
       "      <td>0</td>\n",
       "      <td>NaN</td>\n",
       "      <td>0</td>\n",
       "    </tr>\n",
       "    <tr>\n",
       "      <th>fh_CALU1_LUNG.TERT.bam</th>\n",
       "      <td>NaN</td>\n",
       "      <td>NaN</td>\n",
       "      <td>NaN</td>\n",
       "      <td>NaN</td>\n",
       "      <td>0</td>\n",
       "      <td>NaN</td>\n",
       "      <td>NaN</td>\n",
       "      <td>0</td>\n",
       "      <td>0</td>\n",
       "      <td>NaN</td>\n",
       "      <td>...</td>\n",
       "      <td>NaN</td>\n",
       "      <td>NaN</td>\n",
       "      <td>0</td>\n",
       "      <td>0</td>\n",
       "      <td>0</td>\n",
       "      <td>NaN</td>\n",
       "      <td>0</td>\n",
       "      <td>0</td>\n",
       "      <td>NaN</td>\n",
       "      <td>NaN</td>\n",
       "    </tr>\n",
       "  </tbody>\n",
       "</table>\n",
       "<p>2 rows × 36 columns</p>\n",
       "</div>"
      ],
      "text/plain": [
       "                         1293104 1293139 1293561 1293588 1293690 1293730  \\\n",
       "fh_NCIH196_LUNG.TERT.bam     NaN     NaN     NaN     NaN     NaN     NaN   \n",
       "fh_CALU1_LUNG.TERT.bam       NaN     NaN     NaN     NaN       0     NaN   \n",
       "\n",
       "                         1294004 1294031 1294196 1294223  ... 1295393 1295430  \\\n",
       "fh_NCIH196_LUNG.TERT.bam     NaN     NaN     NaN     NaN  ...     NaN     NaN   \n",
       "fh_CALU1_LUNG.TERT.bam       NaN       0       0     NaN  ...     NaN     NaN   \n",
       "\n",
       "                                      1295590 1295680             1295743  \\\n",
       "fh_NCIH196_LUNG.TERT.bam  -0.0471976401179941       0  0.2253521126760563   \n",
       "fh_CALU1_LUNG.TERT.bam                      0       0                   0   \n",
       "\n",
       "                         1295770               1295876 1295903 1295937 1295979  \n",
       "fh_NCIH196_LUNG.TERT.bam     NaN  -0.09890109890109888       0     NaN       0  \n",
       "fh_CALU1_LUNG.TERT.bam       NaN                     0       0     NaN     NaN  \n",
       "\n",
       "[2 rows x 36 columns]"
      ]
     },
     "execution_count": 19,
     "metadata": {},
     "output_type": "execute_result"
    }
   ],
   "source": [
    "final_data"
   ]
  },
  {
   "cell_type": "code",
   "execution_count": 20,
   "metadata": {
    "ExecuteTime": {
     "end_time": "2021-01-06T16:45:18.423480Z",
     "start_time": "2021-01-06T16:45:18.362684Z"
    }
   },
   "outputs": [],
   "source": [
    "individual_data = pyllelic.return_individual_data(df_list, positions, files_set)"
   ]
  },
  {
   "cell_type": "code",
   "execution_count": 21,
   "metadata": {
    "ExecuteTime": {
     "end_time": "2021-01-06T16:45:18.438231Z",
     "start_time": "2021-01-06T16:45:18.425624Z"
    }
   },
   "outputs": [
    {
     "data": {
      "text/plain": [
       "1293104                                                  NaN\n",
       "1293139                                                  NaN\n",
       "1293561                                                  NaN\n",
       "1293588                                                  NaN\n",
       "1293690                                                  NaN\n",
       "1293730                                                  NaN\n",
       "1294004                                                  NaN\n",
       "1294031                                                  NaN\n",
       "1294196                                                  NaN\n",
       "1294223                                                  NaN\n",
       "1294235                                                  NaN\n",
       "1294262                                                  NaN\n",
       "1294316                                                  NaN\n",
       "1294343                                                  NaN\n",
       "1294369                                                  NaN\n",
       "1294419    [0.0, 0.0, 0.0, 0.0, 0.0, 0.0, 0.0, 0.0, 0.0, ...\n",
       "1294446                                                [1.0]\n",
       "1294812                                                  NaN\n",
       "1294872                                                  NaN\n",
       "1294945    [0.2, 0.2, 0.2, 0.2, 0.2, 0.4, 0.4, 0.4, 0.4, ...\n",
       "1294972                                                  NaN\n",
       "1295089    [0.0, 0.0, 0.0, 0.0, 0.0, 0.0, 0.0, 0.0, 0.0, ...\n",
       "1295116                                                  NaN\n",
       "1295246                                                  NaN\n",
       "1295320                                      [1.0, 1.0, 1.0]\n",
       "1295365    [0.0, 0.0, 0.0, 0.0, 0.0, 0.0, 0.0, 0.0, 0.0, ...\n",
       "1295393                                                  NaN\n",
       "1295430                                                  NaN\n",
       "1295590    [0.0, 0.0, 0.0, 0.0, 0.0, 0.0, 0.0, 0.0, 0.0, ...\n",
       "1295680    [1.0, 1.0, 1.0, 1.0, 1.0, 1.0, 1.0, 1.0, 1.0, ...\n",
       "1295743    [0.0, 0.0, 0.0, 0.0, 0.0, 0.0, 0.0, 0.0, 0.0, ...\n",
       "1295770                                                  NaN\n",
       "1295876    [0.0, 0.0, 0.0, 0.0, 0.0, 0.0, 0.0, 0.0, 0.0, ...\n",
       "1295903    [1.0, 1.0, 1.0, 1.0, 1.0, 1.0, 1.0, 1.0, 1.0, ...\n",
       "1295937                                                  NaN\n",
       "1295979                                           [0.0, 0.0]\n",
       "Name: fh_NCIH196_LUNG.TERT.bam, dtype: object"
      ]
     },
     "execution_count": 21,
     "metadata": {},
     "output_type": "execute_result"
    }
   ],
   "source": [
    "individual_data.loc['fh_NCIH196_LUNG.TERT.bam']"
   ]
  },
  {
   "cell_type": "code",
   "execution_count": 23,
   "metadata": {
    "ExecuteTime": {
     "end_time": "2021-01-06T16:45:31.360076Z",
     "start_time": "2021-01-06T16:45:30.920013Z"
    }
   },
   "outputs": [
    {
     "data": {
      "text/plain": [
       "array([[<AxesSubplot:title={'center':'0'}>]], dtype=object)"
      ]
     },
     "execution_count": 23,
     "metadata": {},
     "output_type": "execute_result"
    },
    {
     "data": {
      "image/png": "[encoded data removed]",
      "text/plain": [
       "<Figure size 432x288 with 1 Axes>"
      ]
     },
     "metadata": {
      "needs_background": "light"
     },
     "output_type": "display_data"
    }
   ],
   "source": [
    "pyllelic.histogram(individual_data, 'fh_NCIH196_LUNG.TERT.bam', '1294945')"
   ]
  },
  {
   "cell_type": "code",
   "execution_count": null,
   "metadata": {},
   "outputs": [],
   "source": []
  }
 ],
 "metadata": {
  "kernelspec": {
   "display_name": "Python 3",
   "language": "python",
   "name": "python3"
  },
  "language_info": {
   "codemirror_mode": {
    "name": "ipython",
    "version": 3
   },
   "file_extension": ".py",
   "mimetype": "text/x-python",
   "name": "python",
   "nbconvert_exporter": "python",
   "pygments_lexer": "ipython3",
   "version": "3.7.8"
  },
  "toc": {
   "base_numbering": 1,
   "nav_menu": {},
   "number_sections": true,
   "sideBar": true,
   "skip_h1_title": false,
   "title_cell": "Table of Contents",
   "title_sidebar": "Contents",
   "toc_cell": false,
   "toc_position": {},
   "toc_section_display": true,
   "toc_window_display": false
  }
 },
 "nbformat": 4,
 "nbformat_minor": 4
}
